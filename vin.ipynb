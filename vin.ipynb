{
 "cells": [
  {
   "cell_type": "code",
   "execution_count": 1,
   "metadata": {},
   "outputs": [],
   "source": [
    "import os\n",
    "import torch\n",
    "\n",
    "import torchvision.transforms as transforms\n",
    "import torch.optim as optim\n",
    "import torch.nn as nn\n",
    "import torch.nn.functional as F\n",
    "import time\n",
    "import copy\n",
    "import numpy as np\n",
    "import random\n",
    "import pydicom\n",
    "import nibabel as nib\n",
    "import matplotlib.pyplot as plt\n",
    "import pandas as pd\n",
    "import datetime"
   ]
  },
  {
   "cell_type": "code",
   "execution_count": 2,
   "metadata": {},
   "outputs": [],
   "source": [
    "from torch.optim import lr_scheduler\n",
    "from torchvision import datasets\n",
    "from efficientnet_pytorch import EfficientNet\n",
    "from sklearn.metrics import roc_auc_score, confusion_matrix, accuracy_score\n",
    "from sklearn.metrics import classification_report, roc_curve\n",
    "import logging\n",
    "\n",
    "from pathlib import Path\n",
    "from PIL import Image\n",
    "import SimpleITK as sitk\n",
    "from numpy import asarray\n",
    "from math import sqrt\n",
    "from scipy.special import ndtri\n",
    "from numpy import argmax"
   ]
  },
  {
   "cell_type": "code",
   "execution_count": 3,
   "metadata": {},
   "outputs": [],
   "source": [
    "class Medical_dataset(torch.utils.data.Dataset):\n",
    "\n",
    "    def __init__(self, first_layer_files, second_layer_files, third_layer_files, labels, transforms):\n",
    "\n",
    "        self.first_layer_files = first_layer_files\n",
    "        self.second_layer_files = second_layer_files\n",
    "        self.third_layer_files = third_layer_files\n",
    "        self.labels = labels\n",
    "        self.transforms = transforms\n",
    "\n",
    "    def __len__(self):\n",
    "        return min(len(self.first_layer_files), len(self.second_layer_files), len(self.third_layer_files))\n",
    "    \n",
    "    def __getitem__(self, idx):\n",
    "\n",
    "        # first layer will be dcm files\n",
    "        img_path_dcm = self.first_layer_files[idx]\n",
    "        ds_A = pydicom.read_file(img_path_dcm)\n",
    "        img_A = np.array(ds_A.pixel_array, dtype=np.float32)\n",
    "\n",
    "        min, max = np.min(img_A), np.max(img_A)\n",
    "        img_A = 255 - ((img_A - min) / (max - min)) * 255\n",
    "        PIL_image_A = Image.fromarray(img_A.astype(np.uint8))\n",
    "\n",
    "        # second layer will be nii files\n",
    "        img_path = self.second_layer_files[idx]\n",
    "        ds_B = nib.load(img_path)\n",
    "        img_B = np.array(ds_B.get_fdata(), dtype=np.float32)\n",
    "\n",
    "        if len(img_B.shape) == 4:\n",
    "            img_B = img_B[:,:,0,0]\n",
    "        else:\n",
    "            min, max = np.min(img_B), np.max(img_B)\n",
    "            img_B = ((img_B - min) / (max - min)) * 255\n",
    "            PIL_image_B = Image.fromarray(np.transpose(img_B).astype(np.uint8))\n",
    "\n",
    "        # third layer will be nii files\n",
    "        img_path = self.third_layer_files[idx]\n",
    "        ds_C = nib.load(img_path)\n",
    "        img_C = np.array(ds_C.get_fdata(), dtype=np.float32)\n",
    "\n",
    "        if len(img_C.shape) == 4:\n",
    "            img_C = img_C[:,:,0,0]\n",
    "        else:\n",
    "            min, max = np.min(img_C), np.max(img_C)\n",
    "            img_C = ((img_C - min) / (max - min)) * 255\n",
    "            PIL_image_C = Image.fromarray(np.transpose(img_C).astype(np.uint8))\n",
    "\n",
    "        return self.transforms(PIL_image_A), self.transforms(PIL_image_B), self.transforms(PIL_image_C), self.labels[idx]"
   ]
  },
  {
   "cell_type": "code",
   "execution_count": 4,
   "metadata": {},
   "outputs": [],
   "source": [
    "resol = 1024\n",
    "\n",
    "train_transforms = transforms.Compose([\n",
    "    transforms.Resize((resol, resol)),\n",
    "    transforms.ToTensor(),\n",
    "    transforms.Normalize([0.5], [0.5])\n",
    "])\n",
    "\n",
    "valid_transforms = transforms.Compose([\n",
    "    transforms.Resize((resol, resol)),\n",
    "    transforms.ToTensor(),\n",
    "    transforms.Normalize([0.5], [0.5])\n",
    "])"
   ]
  },
  {
   "cell_type": "code",
   "execution_count": 5,
   "metadata": {},
   "outputs": [
    {
     "name": "stdout",
     "output_type": "stream",
     "text": [
      "Counter({14: 10606, 0: 1127, 3: 878, 13: 522, 11: 496, 7: 251, 10: 241, 9: 224, 8: 221, 6: 134, 5: 111, 2: 91, 4: 46, 1: 30, 12: 22})\n",
      "15000\n"
     ]
    }
   ],
   "source": [
    "# make dataset for train and valid based on class above\n",
    "first_layer_files_list = []\n",
    "fl_dir = '/data4/vindr-cxr/train/'\n",
    "files = sorted(os.listdir(fl_dir))\n",
    "for file in files:\n",
    "    first_layer_files_list.append(fl_dir + file)\n",
    "\n",
    "second_layer_files_list = []\n",
    "sl_dir = '/data4/20231130_tisepx_vinbig/train_lung/'\n",
    "files = sorted(os.listdir(sl_dir))\n",
    "for file in files:\n",
    "    second_layer_files_list.append(sl_dir + file)\n",
    "\n",
    "third_layer_files_list = []\n",
    "tl_dir = '/data4/20231130_tisepx_vinbig/train_pulmonaryLung/'\n",
    "files = sorted(os.listdir(tl_dir))\n",
    "for file in files:\n",
    "    third_layer_files_list.append(tl_dir + file)\n",
    "\n",
    "img_list = sorted(os.listdir(fl_dir))\n",
    "id_list = []\n",
    "for img in img_list:\n",
    "    id_list.append(img.split('.')[0])\n",
    "\n",
    "labels = []\n",
    "metadata_dir = '/data4/vindr-cxr/train.csv'\n",
    "df = pd.read_csv(metadata_dir)\n",
    "\n",
    "for i in id_list:\n",
    "    labels.append(df.loc[df['image_id'] == i, 'class_id'].iloc[0])\n",
    "\n",
    "# count numver of values in each class\n",
    "from collections import Counter\n",
    "print(Counter(labels))\n",
    "print(len(labels))"
   ]
  },
  {
   "cell_type": "code",
   "execution_count": 6,
   "metadata": {},
   "outputs": [
    {
     "name": "stdout",
     "output_type": "stream",
     "text": [
      "num of train dataset: 10500, valid dataset: 1500, test dataset: 3000\n"
     ]
    }
   ],
   "source": [
    "# split train and valid\n",
    "length = len(first_layer_files_list)\n",
    "np.random.seed(555)\n",
    "indices = np.arange(length)\n",
    "np.random.shuffle(indices)\n",
    "\n",
    "test_split = int(np.floor(0.2 * length))\n",
    "val_split = int(np.floor(0.1 * length))\n",
    "test_indices, val_indices, train_indices = indices[:test_split], indices[test_split:test_split+val_split], indices[test_split+val_split:]\n",
    "\n",
    "train_x1 = [first_layer_files_list[i] for i in train_indices]\n",
    "train_x2 = [second_layer_files_list[i] for i in train_indices]\n",
    "train_x3 = [third_layer_files_list[i] for i in train_indices]\n",
    "train_y = [labels[i] for i in train_indices]\n",
    "\n",
    "val_x1 = [first_layer_files_list[i] for i in val_indices]\n",
    "val_x2 = [second_layer_files_list[i] for i in val_indices]\n",
    "val_x3 = [third_layer_files_list[i] for i in val_indices]\n",
    "val_y = [labels[i] for i in val_indices]\n",
    "\n",
    "test_x1 = [first_layer_files_list[i] for i in test_indices]\n",
    "test_x2 = [second_layer_files_list[i] for i in test_indices]\n",
    "test_x3 = [third_layer_files_list[i] for i in test_indices]\n",
    "test_y = [labels[i] for i in test_indices]\n",
    "\n",
    "print(f'num of train dataset: {len(train_x1)}, valid dataset: {len(val_x2)}, test dataset: {len(test_x3)}')"
   ]
  },
  {
   "cell_type": "code",
   "execution_count": 7,
   "metadata": {},
   "outputs": [
    {
     "name": "stdout",
     "output_type": "stream",
     "text": [
      "Loaded pretrained weights for efficientnet-b5\n"
     ]
    },
    {
     "data": {
      "text/plain": [
       "<torch._C.Generator at 0x7f17b8b505f0>"
      ]
     },
     "execution_count": 7,
     "metadata": {},
     "output_type": "execute_result"
    }
   ],
   "source": [
    "# Setting up training enviornment\n",
    "from efficientnet_pytorch import EfficientNet\n",
    "model_name = 'efficientnet-b5'\n",
    "device = torch.device(\"cuda\" if torch.cuda.is_available() else \"cpu\")\n",
    "model = EfficientNet.from_pretrained(model_name,in_channels=3, num_classes=15)\n",
    "# use multiple gpu\n",
    "model = nn.DataParallel(model)\n",
    "model.to(device)\n",
    "\n",
    "loss_function = nn.BCEWithLogitsLoss()\n",
    "optimizer = optim.SGD(model.parameters(), \n",
    "                         lr = 0.05,\n",
    "                         momentum=0.9,\n",
    "                         weight_decay=1e-4)\n",
    "lmbda = lambda epoch: 0.98739\n",
    "scheduler = optim.lr_scheduler.MultiplicativeLR(optimizer, lr_lambda=lmbda)\n",
    "\n",
    "batch_size  = 32\n",
    "random_seed = 555\n",
    "random.seed(random_seed)\n",
    "torch.manual_seed(random_seed)"
   ]
  },
  {
   "cell_type": "code",
   "execution_count": 8,
   "metadata": {},
   "outputs": [],
   "source": [
    "# train and valid dataset\n",
    "train_dataset = Medical_dataset(train_x1, train_x2, train_x3, train_y, train_transforms)\n",
    "valid_dataset = Medical_dataset(val_x1, val_x2, val_x3, val_y, valid_transforms)\n",
    "test_dataset = Medical_dataset(test_x1, test_x2, test_x3, test_y, valid_transforms)\n",
    "\n",
    "# dataloader\n",
    "train_loader = torch.utils.data.DataLoader(train_dataset, batch_size=batch_size, shuffle=True, num_workers=0)\n",
    "valid_loader = torch.utils.data.DataLoader(valid_dataset, batch_size=batch_size)\n",
    "test_loader = torch.utils.data.DataLoader(test_dataset, batch_size=batch_size)"
   ]
  },
  {
   "cell_type": "code",
   "execution_count": 29,
   "metadata": {},
   "outputs": [
    {
     "name": "stdout",
     "output_type": "stream",
     "text": [
      "epoch 1 loss is 2.8673\n",
      "saved new best model\n",
      "epoch 1 val loss is 0.0906\n",
      "epoch 1 val auroc is 0.8493\n",
      "epoch 1 val acc is 0.6440\n",
      "epoch 1 took 117.28 min\n"
     ]
    },
    {
     "name": "stderr",
     "output_type": "stream",
     "text": [
      "/usr/local/lib/python3.8/dist-packages/pydicom/pixel_data_handlers/pillow_handler.py:238: UserWarning: The (0028,0101) 'Bits Stored' value (12-bit) doesn't match the JPEG 2000 data (16-bit). It's recommended that you change the 'Bits Stored' value\n",
      "  warnings.warn(\n",
      "/usr/local/lib/python3.8/dist-packages/pydicom/pixel_data_handlers/pillow_handler.py:238: UserWarning: The (0028,0101) 'Bits Stored' value (14-bit) doesn't match the JPEG 2000 data (16-bit). It's recommended that you change the 'Bits Stored' value\n",
      "  warnings.warn(\n"
     ]
    },
    {
     "name": "stdout",
     "output_type": "stream",
     "text": [
      "epoch 2 loss is 2.7088\n",
      "saved new best model\n",
      "epoch 2 val loss is 0.0870\n",
      "epoch 2 val auroc is 0.8701\n",
      "epoch 2 val acc is 0.6553\n",
      "epoch 2 took 117.09 min\n"
     ]
    },
    {
     "name": "stderr",
     "output_type": "stream",
     "text": [
      "/usr/local/lib/python3.8/dist-packages/pydicom/pixel_data_handlers/pillow_handler.py:238: UserWarning: The (0028,0101) 'Bits Stored' value (12-bit) doesn't match the JPEG 2000 data (16-bit). It's recommended that you change the 'Bits Stored' value\n",
      "  warnings.warn(\n",
      "/usr/local/lib/python3.8/dist-packages/pydicom/pixel_data_handlers/pillow_handler.py:238: UserWarning: The (0028,0101) 'Bits Stored' value (14-bit) doesn't match the JPEG 2000 data (16-bit). It's recommended that you change the 'Bits Stored' value\n",
      "  warnings.warn(\n"
     ]
    },
    {
     "name": "stdout",
     "output_type": "stream",
     "text": [
      "epoch 3 loss is 2.5585\n",
      "epoch 3 val loss is 0.0969\n",
      "epoch 3 val auroc is 0.8747\n",
      "epoch 3 val acc is 0.5800\n",
      "epoch 3 took 117.82 min\n"
     ]
    },
    {
     "name": "stderr",
     "output_type": "stream",
     "text": [
      "/usr/local/lib/python3.8/dist-packages/pydicom/pixel_data_handlers/pillow_handler.py:238: UserWarning: The (0028,0101) 'Bits Stored' value (12-bit) doesn't match the JPEG 2000 data (16-bit). It's recommended that you change the 'Bits Stored' value\n",
      "  warnings.warn(\n",
      "/usr/local/lib/python3.8/dist-packages/pydicom/pixel_data_handlers/pillow_handler.py:238: UserWarning: The (0028,0101) 'Bits Stored' value (14-bit) doesn't match the JPEG 2000 data (16-bit). It's recommended that you change the 'Bits Stored' value\n",
      "  warnings.warn(\n"
     ]
    },
    {
     "name": "stdout",
     "output_type": "stream",
     "text": [
      "epoch 4 loss is 2.4403\n",
      "saved new best model\n",
      "epoch 4 val loss is 0.0795\n",
      "epoch 4 val auroc is 0.8791\n",
      "epoch 4 val acc is 0.6627\n",
      "epoch 4 took 116.77 min\n"
     ]
    },
    {
     "name": "stderr",
     "output_type": "stream",
     "text": [
      "/usr/local/lib/python3.8/dist-packages/pydicom/pixel_data_handlers/pillow_handler.py:238: UserWarning: The (0028,0101) 'Bits Stored' value (12-bit) doesn't match the JPEG 2000 data (16-bit). It's recommended that you change the 'Bits Stored' value\n",
      "  warnings.warn(\n",
      "/usr/local/lib/python3.8/dist-packages/pydicom/pixel_data_handlers/pillow_handler.py:238: UserWarning: The (0028,0101) 'Bits Stored' value (14-bit) doesn't match the JPEG 2000 data (16-bit). It's recommended that you change the 'Bits Stored' value\n",
      "  warnings.warn(\n"
     ]
    },
    {
     "name": "stdout",
     "output_type": "stream",
     "text": [
      "epoch 5 loss is 2.3352\n",
      "epoch 5 val loss is 0.0801\n",
      "epoch 5 val auroc is 0.8801\n",
      "epoch 5 val acc is 0.6680\n",
      "epoch 5 took 117.30 min\n"
     ]
    },
    {
     "name": "stderr",
     "output_type": "stream",
     "text": [
      "/usr/local/lib/python3.8/dist-packages/pydicom/pixel_data_handlers/pillow_handler.py:238: UserWarning: The (0028,0101) 'Bits Stored' value (12-bit) doesn't match the JPEG 2000 data (16-bit). It's recommended that you change the 'Bits Stored' value\n",
      "  warnings.warn(\n",
      "/usr/local/lib/python3.8/dist-packages/pydicom/pixel_data_handlers/pillow_handler.py:238: UserWarning: The (0028,0101) 'Bits Stored' value (14-bit) doesn't match the JPEG 2000 data (16-bit). It's recommended that you change the 'Bits Stored' value\n",
      "  warnings.warn(\n"
     ]
    },
    {
     "name": "stdout",
     "output_type": "stream",
     "text": [
      "epoch 6 loss is 2.2277\n",
      "epoch 6 val loss is 0.0812\n",
      "epoch 6 val auroc is 0.8770\n",
      "epoch 6 val acc is 0.6627\n",
      "epoch 6 took 116.37 min\n"
     ]
    },
    {
     "name": "stderr",
     "output_type": "stream",
     "text": [
      "/usr/local/lib/python3.8/dist-packages/pydicom/pixel_data_handlers/pillow_handler.py:238: UserWarning: The (0028,0101) 'Bits Stored' value (12-bit) doesn't match the JPEG 2000 data (16-bit). It's recommended that you change the 'Bits Stored' value\n",
      "  warnings.warn(\n",
      "/usr/local/lib/python3.8/dist-packages/pydicom/pixel_data_handlers/pillow_handler.py:238: UserWarning: The (0028,0101) 'Bits Stored' value (14-bit) doesn't match the JPEG 2000 data (16-bit). It's recommended that you change the 'Bits Stored' value\n",
      "  warnings.warn(\n"
     ]
    },
    {
     "name": "stdout",
     "output_type": "stream",
     "text": [
      "epoch 7 loss is 2.1300\n",
      "epoch 7 val loss is 0.0829\n",
      "epoch 7 val auroc is 0.8866\n",
      "epoch 7 val acc is 0.6480\n",
      "epoch 7 took 116.47 min\n"
     ]
    },
    {
     "name": "stderr",
     "output_type": "stream",
     "text": [
      "/usr/local/lib/python3.8/dist-packages/pydicom/pixel_data_handlers/pillow_handler.py:238: UserWarning: The (0028,0101) 'Bits Stored' value (12-bit) doesn't match the JPEG 2000 data (16-bit). It's recommended that you change the 'Bits Stored' value\n",
      "  warnings.warn(\n",
      "/usr/local/lib/python3.8/dist-packages/pydicom/pixel_data_handlers/pillow_handler.py:238: UserWarning: The (0028,0101) 'Bits Stored' value (14-bit) doesn't match the JPEG 2000 data (16-bit). It's recommended that you change the 'Bits Stored' value\n",
      "  warnings.warn(\n"
     ]
    },
    {
     "name": "stdout",
     "output_type": "stream",
     "text": [
      "epoch 8 loss is 2.0270\n",
      "epoch 8 val loss is 0.0811\n",
      "epoch 8 val auroc is 0.8888\n",
      "epoch 8 val acc is 0.6680\n",
      "epoch 8 took 117.65 min\n"
     ]
    },
    {
     "name": "stderr",
     "output_type": "stream",
     "text": [
      "/usr/local/lib/python3.8/dist-packages/pydicom/pixel_data_handlers/pillow_handler.py:238: UserWarning: The (0028,0101) 'Bits Stored' value (12-bit) doesn't match the JPEG 2000 data (16-bit). It's recommended that you change the 'Bits Stored' value\n",
      "  warnings.warn(\n",
      "/usr/local/lib/python3.8/dist-packages/pydicom/pixel_data_handlers/pillow_handler.py:238: UserWarning: The (0028,0101) 'Bits Stored' value (14-bit) doesn't match the JPEG 2000 data (16-bit). It's recommended that you change the 'Bits Stored' value\n",
      "  warnings.warn(\n"
     ]
    },
    {
     "name": "stdout",
     "output_type": "stream",
     "text": [
      "epoch 9 loss is 1.9772\n",
      "epoch 9 val loss is 0.0829\n",
      "epoch 9 val auroc is 0.8934\n",
      "epoch 9 val acc is 0.6640\n",
      "epoch 9 took 116.70 min\n"
     ]
    },
    {
     "name": "stderr",
     "output_type": "stream",
     "text": [
      "/usr/local/lib/python3.8/dist-packages/pydicom/pixel_data_handlers/pillow_handler.py:238: UserWarning: The (0028,0101) 'Bits Stored' value (12-bit) doesn't match the JPEG 2000 data (16-bit). It's recommended that you change the 'Bits Stored' value\n",
      "  warnings.warn(\n",
      "/usr/local/lib/python3.8/dist-packages/pydicom/pixel_data_handlers/pillow_handler.py:238: UserWarning: The (0028,0101) 'Bits Stored' value (14-bit) doesn't match the JPEG 2000 data (16-bit). It's recommended that you change the 'Bits Stored' value\n",
      "  warnings.warn(\n"
     ]
    },
    {
     "name": "stdout",
     "output_type": "stream",
     "text": [
      "epoch 10 loss is 1.9070\n",
      "epoch 10 val loss is 0.0822\n",
      "epoch 10 val auroc is 0.8990\n",
      "epoch 10 val acc is 0.6853\n",
      "epoch 10 took 116.60 min\n"
     ]
    },
    {
     "name": "stderr",
     "output_type": "stream",
     "text": [
      "/usr/local/lib/python3.8/dist-packages/pydicom/pixel_data_handlers/pillow_handler.py:238: UserWarning: The (0028,0101) 'Bits Stored' value (14-bit) doesn't match the JPEG 2000 data (16-bit). It's recommended that you change the 'Bits Stored' value\n",
      "  warnings.warn(\n",
      "/usr/local/lib/python3.8/dist-packages/pydicom/pixel_data_handlers/pillow_handler.py:238: UserWarning: The (0028,0101) 'Bits Stored' value (12-bit) doesn't match the JPEG 2000 data (16-bit). It's recommended that you change the 'Bits Stored' value\n",
      "  warnings.warn(\n"
     ]
    },
    {
     "name": "stdout",
     "output_type": "stream",
     "text": [
      "epoch 11 loss is 1.8679\n",
      "epoch 11 val loss is 0.0811\n",
      "epoch 11 val auroc is 0.8948\n",
      "epoch 11 val acc is 0.6787\n",
      "epoch 11 took 116.57 min\n"
     ]
    },
    {
     "name": "stderr",
     "output_type": "stream",
     "text": [
      "/usr/local/lib/python3.8/dist-packages/pydicom/pixel_data_handlers/pillow_handler.py:238: UserWarning: The (0028,0101) 'Bits Stored' value (12-bit) doesn't match the JPEG 2000 data (16-bit). It's recommended that you change the 'Bits Stored' value\n",
      "  warnings.warn(\n",
      "/usr/local/lib/python3.8/dist-packages/pydicom/pixel_data_handlers/pillow_handler.py:238: UserWarning: The (0028,0101) 'Bits Stored' value (14-bit) doesn't match the JPEG 2000 data (16-bit). It's recommended that you change the 'Bits Stored' value\n",
      "  warnings.warn(\n"
     ]
    },
    {
     "name": "stdout",
     "output_type": "stream",
     "text": [
      "epoch 12 loss is 1.8018\n",
      "epoch 12 val loss is 0.0809\n",
      "epoch 12 val auroc is 0.8973\n",
      "epoch 12 val acc is 0.6973\n",
      "epoch 12 took 116.99 min\n"
     ]
    },
    {
     "name": "stderr",
     "output_type": "stream",
     "text": [
      "/usr/local/lib/python3.8/dist-packages/pydicom/pixel_data_handlers/pillow_handler.py:238: UserWarning: The (0028,0101) 'Bits Stored' value (12-bit) doesn't match the JPEG 2000 data (16-bit). It's recommended that you change the 'Bits Stored' value\n",
      "  warnings.warn(\n",
      "/usr/local/lib/python3.8/dist-packages/pydicom/pixel_data_handlers/pillow_handler.py:238: UserWarning: The (0028,0101) 'Bits Stored' value (14-bit) doesn't match the JPEG 2000 data (16-bit). It's recommended that you change the 'Bits Stored' value\n",
      "  warnings.warn(\n"
     ]
    },
    {
     "name": "stdout",
     "output_type": "stream",
     "text": [
      "epoch 13 loss is 1.7616\n",
      "epoch 13 val loss is 0.0813\n",
      "epoch 13 val auroc is 0.8945\n",
      "epoch 13 val acc is 0.6913\n",
      "epoch 13 took 116.34 min\n"
     ]
    },
    {
     "name": "stderr",
     "output_type": "stream",
     "text": [
      "/usr/local/lib/python3.8/dist-packages/pydicom/pixel_data_handlers/pillow_handler.py:238: UserWarning: The (0028,0101) 'Bits Stored' value (12-bit) doesn't match the JPEG 2000 data (16-bit). It's recommended that you change the 'Bits Stored' value\n",
      "  warnings.warn(\n",
      "/usr/local/lib/python3.8/dist-packages/pydicom/pixel_data_handlers/pillow_handler.py:238: UserWarning: The (0028,0101) 'Bits Stored' value (14-bit) doesn't match the JPEG 2000 data (16-bit). It's recommended that you change the 'Bits Stored' value\n",
      "  warnings.warn(\n"
     ]
    },
    {
     "name": "stdout",
     "output_type": "stream",
     "text": [
      "epoch 14 loss is 1.7377\n",
      "epoch 14 val loss is 0.0905\n",
      "epoch 14 val auroc is 0.8964\n",
      "epoch 14 val acc is 0.6900\n",
      "epoch 14 took 116.77 min\n"
     ]
    },
    {
     "name": "stderr",
     "output_type": "stream",
     "text": [
      "/usr/local/lib/python3.8/dist-packages/pydicom/pixel_data_handlers/pillow_handler.py:238: UserWarning: The (0028,0101) 'Bits Stored' value (12-bit) doesn't match the JPEG 2000 data (16-bit). It's recommended that you change the 'Bits Stored' value\n",
      "  warnings.warn(\n",
      "/usr/local/lib/python3.8/dist-packages/pydicom/pixel_data_handlers/pillow_handler.py:238: UserWarning: The (0028,0101) 'Bits Stored' value (14-bit) doesn't match the JPEG 2000 data (16-bit). It's recommended that you change the 'Bits Stored' value\n",
      "  warnings.warn(\n"
     ]
    },
    {
     "name": "stdout",
     "output_type": "stream",
     "text": [
      "epoch 15 loss is 1.6612\n",
      "epoch 15 val loss is 0.0857\n",
      "epoch 15 val auroc is 0.8928\n",
      "epoch 15 val acc is 0.6927\n",
      "epoch 15 took 116.51 min\n"
     ]
    },
    {
     "name": "stderr",
     "output_type": "stream",
     "text": [
      "/usr/local/lib/python3.8/dist-packages/pydicom/pixel_data_handlers/pillow_handler.py:238: UserWarning: The (0028,0101) 'Bits Stored' value (12-bit) doesn't match the JPEG 2000 data (16-bit). It's recommended that you change the 'Bits Stored' value\n",
      "  warnings.warn(\n",
      "/usr/local/lib/python3.8/dist-packages/pydicom/pixel_data_handlers/pillow_handler.py:238: UserWarning: The (0028,0101) 'Bits Stored' value (14-bit) doesn't match the JPEG 2000 data (16-bit). It's recommended that you change the 'Bits Stored' value\n",
      "  warnings.warn(\n"
     ]
    },
    {
     "name": "stdout",
     "output_type": "stream",
     "text": [
      "epoch 16 loss is 1.6609\n",
      "epoch 16 val loss is 0.0871\n",
      "epoch 16 val auroc is 0.8953\n",
      "epoch 16 val acc is 0.6993\n",
      "epoch 16 took 116.26 min\n"
     ]
    },
    {
     "name": "stderr",
     "output_type": "stream",
     "text": [
      "/usr/local/lib/python3.8/dist-packages/pydicom/pixel_data_handlers/pillow_handler.py:238: UserWarning: The (0028,0101) 'Bits Stored' value (12-bit) doesn't match the JPEG 2000 data (16-bit). It's recommended that you change the 'Bits Stored' value\n",
      "  warnings.warn(\n",
      "/usr/local/lib/python3.8/dist-packages/pydicom/pixel_data_handlers/pillow_handler.py:238: UserWarning: The (0028,0101) 'Bits Stored' value (14-bit) doesn't match the JPEG 2000 data (16-bit). It's recommended that you change the 'Bits Stored' value\n",
      "  warnings.warn(\n"
     ]
    },
    {
     "name": "stdout",
     "output_type": "stream",
     "text": [
      "epoch 17 loss is 1.5672\n",
      "epoch 17 val loss is 0.0868\n",
      "epoch 17 val auroc is 0.8962\n",
      "epoch 17 val acc is 0.7140\n",
      "epoch 17 took 115.96 min\n"
     ]
    },
    {
     "name": "stderr",
     "output_type": "stream",
     "text": [
      "/usr/local/lib/python3.8/dist-packages/pydicom/pixel_data_handlers/pillow_handler.py:238: UserWarning: The (0028,0101) 'Bits Stored' value (12-bit) doesn't match the JPEG 2000 data (16-bit). It's recommended that you change the 'Bits Stored' value\n",
      "  warnings.warn(\n",
      "/usr/local/lib/python3.8/dist-packages/pydicom/pixel_data_handlers/pillow_handler.py:238: UserWarning: The (0028,0101) 'Bits Stored' value (14-bit) doesn't match the JPEG 2000 data (16-bit). It's recommended that you change the 'Bits Stored' value\n",
      "  warnings.warn(\n"
     ]
    },
    {
     "name": "stdout",
     "output_type": "stream",
     "text": [
      "epoch 18 loss is 1.4928\n",
      "epoch 18 val loss is 0.1110\n",
      "epoch 18 val auroc is 0.8860\n",
      "epoch 18 val acc is 0.6980\n",
      "epoch 18 took 117.47 min\n"
     ]
    },
    {
     "name": "stderr",
     "output_type": "stream",
     "text": [
      "/usr/local/lib/python3.8/dist-packages/pydicom/pixel_data_handlers/pillow_handler.py:238: UserWarning: The (0028,0101) 'Bits Stored' value (12-bit) doesn't match the JPEG 2000 data (16-bit). It's recommended that you change the 'Bits Stored' value\n",
      "  warnings.warn(\n",
      "/usr/local/lib/python3.8/dist-packages/pydicom/pixel_data_handlers/pillow_handler.py:238: UserWarning: The (0028,0101) 'Bits Stored' value (14-bit) doesn't match the JPEG 2000 data (16-bit). It's recommended that you change the 'Bits Stored' value\n",
      "  warnings.warn(\n"
     ]
    },
    {
     "name": "stdout",
     "output_type": "stream",
     "text": [
      "epoch 19 loss is 1.4694\n",
      "epoch 19 val loss is 0.0890\n",
      "epoch 19 val auroc is 0.8929\n",
      "epoch 19 val acc is 0.7147\n",
      "epoch 19 took 116.55 min\n"
     ]
    },
    {
     "name": "stderr",
     "output_type": "stream",
     "text": [
      "/usr/local/lib/python3.8/dist-packages/pydicom/pixel_data_handlers/pillow_handler.py:238: UserWarning: The (0028,0101) 'Bits Stored' value (14-bit) doesn't match the JPEG 2000 data (16-bit). It's recommended that you change the 'Bits Stored' value\n",
      "  warnings.warn(\n",
      "/usr/local/lib/python3.8/dist-packages/pydicom/pixel_data_handlers/pillow_handler.py:238: UserWarning: The (0028,0101) 'Bits Stored' value (12-bit) doesn't match the JPEG 2000 data (16-bit). It's recommended that you change the 'Bits Stored' value\n",
      "  warnings.warn(\n"
     ]
    },
    {
     "name": "stdout",
     "output_type": "stream",
     "text": [
      "epoch 20 loss is 1.3593\n",
      "epoch 20 val loss is 0.0969\n",
      "epoch 20 val auroc is 0.8907\n",
      "epoch 20 val acc is 0.7093\n",
      "epoch 20 took 117.12 min\n"
     ]
    },
    {
     "name": "stderr",
     "output_type": "stream",
     "text": [
      "/usr/local/lib/python3.8/dist-packages/pydicom/pixel_data_handlers/pillow_handler.py:238: UserWarning: The (0028,0101) 'Bits Stored' value (12-bit) doesn't match the JPEG 2000 data (16-bit). It's recommended that you change the 'Bits Stored' value\n",
      "  warnings.warn(\n",
      "/usr/local/lib/python3.8/dist-packages/pydicom/pixel_data_handlers/pillow_handler.py:238: UserWarning: The (0028,0101) 'Bits Stored' value (14-bit) doesn't match the JPEG 2000 data (16-bit). It's recommended that you change the 'Bits Stored' value\n",
      "  warnings.warn(\n"
     ]
    },
    {
     "name": "stdout",
     "output_type": "stream",
     "text": [
      "epoch 21 loss is 1.2973\n",
      "epoch 21 val loss is 0.1033\n",
      "epoch 21 val auroc is 0.8815\n",
      "epoch 21 val acc is 0.6700\n",
      "epoch 21 took 116.15 min\n"
     ]
    },
    {
     "name": "stderr",
     "output_type": "stream",
     "text": [
      "/usr/local/lib/python3.8/dist-packages/pydicom/pixel_data_handlers/pillow_handler.py:238: UserWarning: The (0028,0101) 'Bits Stored' value (14-bit) doesn't match the JPEG 2000 data (16-bit). It's recommended that you change the 'Bits Stored' value\n",
      "  warnings.warn(\n",
      "/usr/local/lib/python3.8/dist-packages/pydicom/pixel_data_handlers/pillow_handler.py:238: UserWarning: The (0028,0101) 'Bits Stored' value (12-bit) doesn't match the JPEG 2000 data (16-bit). It's recommended that you change the 'Bits Stored' value\n",
      "  warnings.warn(\n"
     ]
    },
    {
     "name": "stdout",
     "output_type": "stream",
     "text": [
      "epoch 22 loss is 1.2769\n",
      "epoch 22 val loss is 0.1036\n",
      "epoch 22 val auroc is 0.8614\n",
      "epoch 22 val acc is 0.7007\n",
      "epoch 22 took 116.60 min\n"
     ]
    },
    {
     "name": "stderr",
     "output_type": "stream",
     "text": [
      "/usr/local/lib/python3.8/dist-packages/pydicom/pixel_data_handlers/pillow_handler.py:238: UserWarning: The (0028,0101) 'Bits Stored' value (12-bit) doesn't match the JPEG 2000 data (16-bit). It's recommended that you change the 'Bits Stored' value\n",
      "  warnings.warn(\n",
      "/usr/local/lib/python3.8/dist-packages/pydicom/pixel_data_handlers/pillow_handler.py:238: UserWarning: The (0028,0101) 'Bits Stored' value (14-bit) doesn't match the JPEG 2000 data (16-bit). It's recommended that you change the 'Bits Stored' value\n",
      "  warnings.warn(\n"
     ]
    },
    {
     "name": "stdout",
     "output_type": "stream",
     "text": [
      "epoch 23 loss is 1.2024\n",
      "epoch 23 val loss is 0.1081\n",
      "epoch 23 val auroc is 0.8818\n",
      "epoch 23 val acc is 0.6580\n",
      "epoch 23 took 116.32 min\n"
     ]
    },
    {
     "name": "stderr",
     "output_type": "stream",
     "text": [
      "/usr/local/lib/python3.8/dist-packages/pydicom/pixel_data_handlers/pillow_handler.py:238: UserWarning: The (0028,0101) 'Bits Stored' value (14-bit) doesn't match the JPEG 2000 data (16-bit). It's recommended that you change the 'Bits Stored' value\n",
      "  warnings.warn(\n",
      "/usr/local/lib/python3.8/dist-packages/pydicom/pixel_data_handlers/pillow_handler.py:238: UserWarning: The (0028,0101) 'Bits Stored' value (12-bit) doesn't match the JPEG 2000 data (16-bit). It's recommended that you change the 'Bits Stored' value\n",
      "  warnings.warn(\n"
     ]
    },
    {
     "name": "stdout",
     "output_type": "stream",
     "text": [
      "epoch 24 loss is 1.1501\n",
      "epoch 24 val loss is 0.0992\n",
      "epoch 24 val auroc is 0.8880\n",
      "epoch 24 val acc is 0.6973\n",
      "epoch 24 took 116.44 min\n"
     ]
    },
    {
     "name": "stderr",
     "output_type": "stream",
     "text": [
      "/usr/local/lib/python3.8/dist-packages/pydicom/pixel_data_handlers/pillow_handler.py:238: UserWarning: The (0028,0101) 'Bits Stored' value (12-bit) doesn't match the JPEG 2000 data (16-bit). It's recommended that you change the 'Bits Stored' value\n",
      "  warnings.warn(\n",
      "/usr/local/lib/python3.8/dist-packages/pydicom/pixel_data_handlers/pillow_handler.py:238: UserWarning: The (0028,0101) 'Bits Stored' value (14-bit) doesn't match the JPEG 2000 data (16-bit). It's recommended that you change the 'Bits Stored' value\n",
      "  warnings.warn(\n"
     ]
    },
    {
     "name": "stdout",
     "output_type": "stream",
     "text": [
      "epoch 25 loss is 1.1463\n",
      "epoch 25 val loss is 0.1050\n",
      "epoch 25 val auroc is 0.8845\n",
      "epoch 25 val acc is 0.7133\n",
      "epoch 25 took 116.54 min\n"
     ]
    },
    {
     "name": "stderr",
     "output_type": "stream",
     "text": [
      "/usr/local/lib/python3.8/dist-packages/pydicom/pixel_data_handlers/pillow_handler.py:238: UserWarning: The (0028,0101) 'Bits Stored' value (12-bit) doesn't match the JPEG 2000 data (16-bit). It's recommended that you change the 'Bits Stored' value\n",
      "  warnings.warn(\n",
      "/usr/local/lib/python3.8/dist-packages/pydicom/pixel_data_handlers/pillow_handler.py:238: UserWarning: The (0028,0101) 'Bits Stored' value (14-bit) doesn't match the JPEG 2000 data (16-bit). It's recommended that you change the 'Bits Stored' value\n",
      "  warnings.warn(\n"
     ]
    },
    {
     "name": "stdout",
     "output_type": "stream",
     "text": [
      "epoch 26 loss is 1.0644\n",
      "epoch 26 val loss is 0.1087\n",
      "epoch 26 val auroc is 0.8779\n",
      "epoch 26 val acc is 0.7020\n",
      "epoch 26 took 115.87 min\n"
     ]
    },
    {
     "name": "stderr",
     "output_type": "stream",
     "text": [
      "/usr/local/lib/python3.8/dist-packages/pydicom/pixel_data_handlers/pillow_handler.py:238: UserWarning: The (0028,0101) 'Bits Stored' value (12-bit) doesn't match the JPEG 2000 data (16-bit). It's recommended that you change the 'Bits Stored' value\n",
      "  warnings.warn(\n",
      "/usr/local/lib/python3.8/dist-packages/pydicom/pixel_data_handlers/pillow_handler.py:238: UserWarning: The (0028,0101) 'Bits Stored' value (14-bit) doesn't match the JPEG 2000 data (16-bit). It's recommended that you change the 'Bits Stored' value\n",
      "  warnings.warn(\n"
     ]
    },
    {
     "name": "stdout",
     "output_type": "stream",
     "text": [
      "epoch 27 loss is 1.0366\n",
      "epoch 27 val loss is 0.1288\n",
      "epoch 27 val auroc is 0.8618\n",
      "epoch 27 val acc is 0.6300\n",
      "epoch 27 took 116.39 min\n"
     ]
    },
    {
     "name": "stderr",
     "output_type": "stream",
     "text": [
      "/usr/local/lib/python3.8/dist-packages/pydicom/pixel_data_handlers/pillow_handler.py:238: UserWarning: The (0028,0101) 'Bits Stored' value (12-bit) doesn't match the JPEG 2000 data (16-bit). It's recommended that you change the 'Bits Stored' value\n",
      "  warnings.warn(\n",
      "/usr/local/lib/python3.8/dist-packages/pydicom/pixel_data_handlers/pillow_handler.py:238: UserWarning: The (0028,0101) 'Bits Stored' value (14-bit) doesn't match the JPEG 2000 data (16-bit). It's recommended that you change the 'Bits Stored' value\n",
      "  warnings.warn(\n"
     ]
    },
    {
     "name": "stdout",
     "output_type": "stream",
     "text": [
      "epoch 28 loss is 0.9966\n",
      "epoch 28 val loss is 0.1051\n",
      "epoch 28 val auroc is 0.8709\n",
      "epoch 28 val acc is 0.7167\n",
      "epoch 28 took 116.87 min\n"
     ]
    },
    {
     "name": "stderr",
     "output_type": "stream",
     "text": [
      "/usr/local/lib/python3.8/dist-packages/pydicom/pixel_data_handlers/pillow_handler.py:238: UserWarning: The (0028,0101) 'Bits Stored' value (14-bit) doesn't match the JPEG 2000 data (16-bit). It's recommended that you change the 'Bits Stored' value\n",
      "  warnings.warn(\n",
      "/usr/local/lib/python3.8/dist-packages/pydicom/pixel_data_handlers/pillow_handler.py:238: UserWarning: The (0028,0101) 'Bits Stored' value (12-bit) doesn't match the JPEG 2000 data (16-bit). It's recommended that you change the 'Bits Stored' value\n",
      "  warnings.warn(\n"
     ]
    },
    {
     "name": "stdout",
     "output_type": "stream",
     "text": [
      "epoch 29 loss is 0.9406\n",
      "epoch 29 val loss is 0.1114\n",
      "epoch 29 val auroc is 0.8719\n",
      "epoch 29 val acc is 0.6987\n",
      "epoch 29 took 116.20 min\n"
     ]
    },
    {
     "name": "stderr",
     "output_type": "stream",
     "text": [
      "/usr/local/lib/python3.8/dist-packages/pydicom/pixel_data_handlers/pillow_handler.py:238: UserWarning: The (0028,0101) 'Bits Stored' value (12-bit) doesn't match the JPEG 2000 data (16-bit). It's recommended that you change the 'Bits Stored' value\n",
      "  warnings.warn(\n",
      "/usr/local/lib/python3.8/dist-packages/pydicom/pixel_data_handlers/pillow_handler.py:238: UserWarning: The (0028,0101) 'Bits Stored' value (14-bit) doesn't match the JPEG 2000 data (16-bit). It's recommended that you change the 'Bits Stored' value\n",
      "  warnings.warn(\n"
     ]
    },
    {
     "name": "stdout",
     "output_type": "stream",
     "text": [
      "epoch 30 loss is 0.9210\n",
      "epoch 30 val loss is 0.1309\n",
      "epoch 30 val auroc is 0.8325\n",
      "epoch 30 val acc is 0.6393\n",
      "epoch 30 took 116.56 min\n"
     ]
    },
    {
     "name": "stderr",
     "output_type": "stream",
     "text": [
      "/usr/local/lib/python3.8/dist-packages/pydicom/pixel_data_handlers/pillow_handler.py:238: UserWarning: The (0028,0101) 'Bits Stored' value (12-bit) doesn't match the JPEG 2000 data (16-bit). It's recommended that you change the 'Bits Stored' value\n",
      "  warnings.warn(\n",
      "/usr/local/lib/python3.8/dist-packages/pydicom/pixel_data_handlers/pillow_handler.py:238: UserWarning: The (0028,0101) 'Bits Stored' value (14-bit) doesn't match the JPEG 2000 data (16-bit). It's recommended that you change the 'Bits Stored' value\n",
      "  warnings.warn(\n"
     ]
    },
    {
     "name": "stdout",
     "output_type": "stream",
     "text": [
      "epoch 31 loss is 0.9569\n",
      "epoch 31 val loss is 0.1079\n",
      "epoch 31 val auroc is 0.8761\n",
      "epoch 31 val acc is 0.6967\n",
      "epoch 31 took 116.00 min\n"
     ]
    },
    {
     "name": "stderr",
     "output_type": "stream",
     "text": [
      "/usr/local/lib/python3.8/dist-packages/pydicom/pixel_data_handlers/pillow_handler.py:238: UserWarning: The (0028,0101) 'Bits Stored' value (12-bit) doesn't match the JPEG 2000 data (16-bit). It's recommended that you change the 'Bits Stored' value\n",
      "  warnings.warn(\n",
      "/usr/local/lib/python3.8/dist-packages/pydicom/pixel_data_handlers/pillow_handler.py:238: UserWarning: The (0028,0101) 'Bits Stored' value (14-bit) doesn't match the JPEG 2000 data (16-bit). It's recommended that you change the 'Bits Stored' value\n",
      "  warnings.warn(\n"
     ]
    },
    {
     "name": "stdout",
     "output_type": "stream",
     "text": [
      "epoch 32 loss is 0.8498\n",
      "epoch 32 val loss is 0.1118\n",
      "epoch 32 val auroc is 0.8738\n",
      "epoch 32 val acc is 0.6767\n",
      "epoch 32 took 116.02 min\n"
     ]
    },
    {
     "name": "stderr",
     "output_type": "stream",
     "text": [
      "/usr/local/lib/python3.8/dist-packages/pydicom/pixel_data_handlers/pillow_handler.py:238: UserWarning: The (0028,0101) 'Bits Stored' value (12-bit) doesn't match the JPEG 2000 data (16-bit). It's recommended that you change the 'Bits Stored' value\n",
      "  warnings.warn(\n",
      "/usr/local/lib/python3.8/dist-packages/pydicom/pixel_data_handlers/pillow_handler.py:238: UserWarning: The (0028,0101) 'Bits Stored' value (14-bit) doesn't match the JPEG 2000 data (16-bit). It's recommended that you change the 'Bits Stored' value\n",
      "  warnings.warn(\n"
     ]
    },
    {
     "name": "stdout",
     "output_type": "stream",
     "text": [
      "epoch 33 loss is 0.8509\n",
      "epoch 33 val loss is 0.1477\n",
      "epoch 33 val auroc is 0.8512\n",
      "epoch 33 val acc is 0.6160\n",
      "epoch 33 took 115.90 min\n"
     ]
    },
    {
     "name": "stderr",
     "output_type": "stream",
     "text": [
      "/usr/local/lib/python3.8/dist-packages/pydicom/pixel_data_handlers/pillow_handler.py:238: UserWarning: The (0028,0101) 'Bits Stored' value (14-bit) doesn't match the JPEG 2000 data (16-bit). It's recommended that you change the 'Bits Stored' value\n",
      "  warnings.warn(\n",
      "/usr/local/lib/python3.8/dist-packages/pydicom/pixel_data_handlers/pillow_handler.py:238: UserWarning: The (0028,0101) 'Bits Stored' value (12-bit) doesn't match the JPEG 2000 data (16-bit). It's recommended that you change the 'Bits Stored' value\n",
      "  warnings.warn(\n"
     ]
    },
    {
     "name": "stdout",
     "output_type": "stream",
     "text": [
      "epoch 34 loss is 0.8416\n",
      "epoch 34 val loss is 0.1084\n",
      "epoch 34 val auroc is 0.8807\n",
      "epoch 34 val acc is 0.7040\n",
      "epoch 34 took 116.12 min\n"
     ]
    },
    {
     "name": "stderr",
     "output_type": "stream",
     "text": [
      "/usr/local/lib/python3.8/dist-packages/pydicom/pixel_data_handlers/pillow_handler.py:238: UserWarning: The (0028,0101) 'Bits Stored' value (12-bit) doesn't match the JPEG 2000 data (16-bit). It's recommended that you change the 'Bits Stored' value\n",
      "  warnings.warn(\n",
      "/usr/local/lib/python3.8/dist-packages/pydicom/pixel_data_handlers/pillow_handler.py:238: UserWarning: The (0028,0101) 'Bits Stored' value (14-bit) doesn't match the JPEG 2000 data (16-bit). It's recommended that you change the 'Bits Stored' value\n",
      "  warnings.warn(\n"
     ]
    },
    {
     "name": "stdout",
     "output_type": "stream",
     "text": [
      "epoch 35 loss is 0.7751\n",
      "epoch 35 val loss is 0.1161\n",
      "epoch 35 val auroc is 0.8723\n",
      "epoch 35 val acc is 0.6973\n",
      "epoch 35 took 116.21 min\n"
     ]
    },
    {
     "name": "stderr",
     "output_type": "stream",
     "text": [
      "/usr/local/lib/python3.8/dist-packages/pydicom/pixel_data_handlers/pillow_handler.py:238: UserWarning: The (0028,0101) 'Bits Stored' value (12-bit) doesn't match the JPEG 2000 data (16-bit). It's recommended that you change the 'Bits Stored' value\n",
      "  warnings.warn(\n",
      "/usr/local/lib/python3.8/dist-packages/pydicom/pixel_data_handlers/pillow_handler.py:238: UserWarning: The (0028,0101) 'Bits Stored' value (14-bit) doesn't match the JPEG 2000 data (16-bit). It's recommended that you change the 'Bits Stored' value\n",
      "  warnings.warn(\n"
     ]
    },
    {
     "name": "stdout",
     "output_type": "stream",
     "text": [
      "epoch 36 loss is 0.7661\n",
      "epoch 36 val loss is 0.1163\n",
      "epoch 36 val auroc is 0.8572\n",
      "epoch 36 val acc is 0.6720\n",
      "epoch 36 took 116.30 min\n"
     ]
    },
    {
     "name": "stderr",
     "output_type": "stream",
     "text": [
      "/usr/local/lib/python3.8/dist-packages/pydicom/pixel_data_handlers/pillow_handler.py:238: UserWarning: The (0028,0101) 'Bits Stored' value (14-bit) doesn't match the JPEG 2000 data (16-bit). It's recommended that you change the 'Bits Stored' value\n",
      "  warnings.warn(\n",
      "/usr/local/lib/python3.8/dist-packages/pydicom/pixel_data_handlers/pillow_handler.py:238: UserWarning: The (0028,0101) 'Bits Stored' value (12-bit) doesn't match the JPEG 2000 data (16-bit). It's recommended that you change the 'Bits Stored' value\n",
      "  warnings.warn(\n"
     ]
    },
    {
     "name": "stdout",
     "output_type": "stream",
     "text": [
      "epoch 37 loss is 0.7311\n",
      "epoch 37 val loss is 0.1097\n",
      "epoch 37 val auroc is 0.8798\n",
      "epoch 37 val acc is 0.7053\n",
      "epoch 37 took 115.84 min\n"
     ]
    },
    {
     "name": "stderr",
     "output_type": "stream",
     "text": [
      "/usr/local/lib/python3.8/dist-packages/pydicom/pixel_data_handlers/pillow_handler.py:238: UserWarning: The (0028,0101) 'Bits Stored' value (12-bit) doesn't match the JPEG 2000 data (16-bit). It's recommended that you change the 'Bits Stored' value\n",
      "  warnings.warn(\n",
      "/usr/local/lib/python3.8/dist-packages/pydicom/pixel_data_handlers/pillow_handler.py:238: UserWarning: The (0028,0101) 'Bits Stored' value (14-bit) doesn't match the JPEG 2000 data (16-bit). It's recommended that you change the 'Bits Stored' value\n",
      "  warnings.warn(\n"
     ]
    },
    {
     "name": "stdout",
     "output_type": "stream",
     "text": [
      "epoch 38 loss is 0.6905\n",
      "epoch 38 val loss is 0.1117\n",
      "epoch 38 val auroc is 0.8683\n",
      "epoch 38 val acc is 0.7053\n",
      "epoch 38 took 116.06 min\n"
     ]
    },
    {
     "name": "stderr",
     "output_type": "stream",
     "text": [
      "/usr/local/lib/python3.8/dist-packages/pydicom/pixel_data_handlers/pillow_handler.py:238: UserWarning: The (0028,0101) 'Bits Stored' value (14-bit) doesn't match the JPEG 2000 data (16-bit). It's recommended that you change the 'Bits Stored' value\n",
      "  warnings.warn(\n",
      "/usr/local/lib/python3.8/dist-packages/pydicom/pixel_data_handlers/pillow_handler.py:238: UserWarning: The (0028,0101) 'Bits Stored' value (12-bit) doesn't match the JPEG 2000 data (16-bit). It's recommended that you change the 'Bits Stored' value\n",
      "  warnings.warn(\n"
     ]
    },
    {
     "name": "stdout",
     "output_type": "stream",
     "text": [
      "epoch 39 loss is 0.6786\n",
      "epoch 39 val loss is 0.1231\n",
      "epoch 39 val auroc is 0.8518\n",
      "epoch 39 val acc is 0.6747\n",
      "epoch 39 took 116.04 min\n"
     ]
    },
    {
     "name": "stderr",
     "output_type": "stream",
     "text": [
      "/usr/local/lib/python3.8/dist-packages/pydicom/pixel_data_handlers/pillow_handler.py:238: UserWarning: The (0028,0101) 'Bits Stored' value (12-bit) doesn't match the JPEG 2000 data (16-bit). It's recommended that you change the 'Bits Stored' value\n",
      "  warnings.warn(\n",
      "/usr/local/lib/python3.8/dist-packages/pydicom/pixel_data_handlers/pillow_handler.py:238: UserWarning: The (0028,0101) 'Bits Stored' value (14-bit) doesn't match the JPEG 2000 data (16-bit). It's recommended that you change the 'Bits Stored' value\n",
      "  warnings.warn(\n"
     ]
    },
    {
     "name": "stdout",
     "output_type": "stream",
     "text": [
      "epoch 40 loss is 0.6559\n",
      "epoch 40 val loss is 0.1199\n",
      "epoch 40 val auroc is 0.8772\n",
      "epoch 40 val acc is 0.7060\n",
      "epoch 40 took 116.32 min\n"
     ]
    },
    {
     "name": "stderr",
     "output_type": "stream",
     "text": [
      "/usr/local/lib/python3.8/dist-packages/pydicom/pixel_data_handlers/pillow_handler.py:238: UserWarning: The (0028,0101) 'Bits Stored' value (12-bit) doesn't match the JPEG 2000 data (16-bit). It's recommended that you change the 'Bits Stored' value\n",
      "  warnings.warn(\n",
      "/usr/local/lib/python3.8/dist-packages/pydicom/pixel_data_handlers/pillow_handler.py:238: UserWarning: The (0028,0101) 'Bits Stored' value (14-bit) doesn't match the JPEG 2000 data (16-bit). It's recommended that you change the 'Bits Stored' value\n",
      "  warnings.warn(\n"
     ]
    },
    {
     "name": "stdout",
     "output_type": "stream",
     "text": [
      "epoch 41 loss is 0.7167\n",
      "epoch 41 val loss is 0.1216\n",
      "epoch 41 val auroc is 0.8537\n",
      "epoch 41 val acc is 0.6647\n",
      "epoch 41 took 115.79 min\n"
     ]
    },
    {
     "name": "stderr",
     "output_type": "stream",
     "text": [
      "/usr/local/lib/python3.8/dist-packages/pydicom/pixel_data_handlers/pillow_handler.py:238: UserWarning: The (0028,0101) 'Bits Stored' value (12-bit) doesn't match the JPEG 2000 data (16-bit). It's recommended that you change the 'Bits Stored' value\n",
      "  warnings.warn(\n",
      "/usr/local/lib/python3.8/dist-packages/pydicom/pixel_data_handlers/pillow_handler.py:238: UserWarning: The (0028,0101) 'Bits Stored' value (14-bit) doesn't match the JPEG 2000 data (16-bit). It's recommended that you change the 'Bits Stored' value\n",
      "  warnings.warn(\n"
     ]
    },
    {
     "name": "stdout",
     "output_type": "stream",
     "text": [
      "epoch 42 loss is 0.6430\n",
      "epoch 42 val loss is 0.1136\n",
      "epoch 42 val auroc is 0.8762\n",
      "epoch 42 val acc is 0.6933\n",
      "epoch 42 took 116.38 min\n"
     ]
    },
    {
     "name": "stderr",
     "output_type": "stream",
     "text": [
      "/usr/local/lib/python3.8/dist-packages/pydicom/pixel_data_handlers/pillow_handler.py:238: UserWarning: The (0028,0101) 'Bits Stored' value (12-bit) doesn't match the JPEG 2000 data (16-bit). It's recommended that you change the 'Bits Stored' value\n",
      "  warnings.warn(\n",
      "/usr/local/lib/python3.8/dist-packages/pydicom/pixel_data_handlers/pillow_handler.py:238: UserWarning: The (0028,0101) 'Bits Stored' value (14-bit) doesn't match the JPEG 2000 data (16-bit). It's recommended that you change the 'Bits Stored' value\n",
      "  warnings.warn(\n"
     ]
    },
    {
     "name": "stdout",
     "output_type": "stream",
     "text": [
      "epoch 43 loss is 0.6071\n",
      "epoch 43 val loss is 0.1337\n",
      "epoch 43 val auroc is 0.8439\n",
      "epoch 43 val acc is 0.6600\n",
      "epoch 43 took 116.25 min\n"
     ]
    },
    {
     "name": "stderr",
     "output_type": "stream",
     "text": [
      "/usr/local/lib/python3.8/dist-packages/pydicom/pixel_data_handlers/pillow_handler.py:238: UserWarning: The (0028,0101) 'Bits Stored' value (12-bit) doesn't match the JPEG 2000 data (16-bit). It's recommended that you change the 'Bits Stored' value\n",
      "  warnings.warn(\n",
      "/usr/local/lib/python3.8/dist-packages/pydicom/pixel_data_handlers/pillow_handler.py:238: UserWarning: The (0028,0101) 'Bits Stored' value (14-bit) doesn't match the JPEG 2000 data (16-bit). It's recommended that you change the 'Bits Stored' value\n",
      "  warnings.warn(\n"
     ]
    },
    {
     "name": "stdout",
     "output_type": "stream",
     "text": [
      "epoch 44 loss is 0.6055\n",
      "epoch 44 val loss is 0.1229\n",
      "epoch 44 val auroc is 0.8636\n",
      "epoch 44 val acc is 0.6580\n",
      "epoch 44 took 115.93 min\n"
     ]
    },
    {
     "name": "stderr",
     "output_type": "stream",
     "text": [
      "/usr/local/lib/python3.8/dist-packages/pydicom/pixel_data_handlers/pillow_handler.py:238: UserWarning: The (0028,0101) 'Bits Stored' value (12-bit) doesn't match the JPEG 2000 data (16-bit). It's recommended that you change the 'Bits Stored' value\n",
      "  warnings.warn(\n",
      "/usr/local/lib/python3.8/dist-packages/pydicom/pixel_data_handlers/pillow_handler.py:238: UserWarning: The (0028,0101) 'Bits Stored' value (14-bit) doesn't match the JPEG 2000 data (16-bit). It's recommended that you change the 'Bits Stored' value\n",
      "  warnings.warn(\n"
     ]
    },
    {
     "name": "stdout",
     "output_type": "stream",
     "text": [
      "epoch 45 loss is 0.6644\n",
      "epoch 45 val loss is 0.1280\n",
      "epoch 45 val auroc is 0.8202\n",
      "epoch 45 val acc is 0.6140\n",
      "epoch 45 took 116.21 min\n"
     ]
    },
    {
     "name": "stderr",
     "output_type": "stream",
     "text": [
      "/usr/local/lib/python3.8/dist-packages/pydicom/pixel_data_handlers/pillow_handler.py:238: UserWarning: The (0028,0101) 'Bits Stored' value (14-bit) doesn't match the JPEG 2000 data (16-bit). It's recommended that you change the 'Bits Stored' value\n",
      "  warnings.warn(\n",
      "/usr/local/lib/python3.8/dist-packages/pydicom/pixel_data_handlers/pillow_handler.py:238: UserWarning: The (0028,0101) 'Bits Stored' value (12-bit) doesn't match the JPEG 2000 data (16-bit). It's recommended that you change the 'Bits Stored' value\n",
      "  warnings.warn(\n"
     ]
    },
    {
     "name": "stdout",
     "output_type": "stream",
     "text": [
      "epoch 46 loss is 0.6026\n",
      "epoch 46 val loss is 0.1373\n",
      "epoch 46 val auroc is 0.7982\n",
      "epoch 46 val acc is 0.6100\n",
      "epoch 46 took 116.32 min\n"
     ]
    },
    {
     "name": "stderr",
     "output_type": "stream",
     "text": [
      "/usr/local/lib/python3.8/dist-packages/pydicom/pixel_data_handlers/pillow_handler.py:238: UserWarning: The (0028,0101) 'Bits Stored' value (12-bit) doesn't match the JPEG 2000 data (16-bit). It's recommended that you change the 'Bits Stored' value\n",
      "  warnings.warn(\n",
      "/usr/local/lib/python3.8/dist-packages/pydicom/pixel_data_handlers/pillow_handler.py:238: UserWarning: The (0028,0101) 'Bits Stored' value (14-bit) doesn't match the JPEG 2000 data (16-bit). It's recommended that you change the 'Bits Stored' value\n",
      "  warnings.warn(\n"
     ]
    },
    {
     "name": "stdout",
     "output_type": "stream",
     "text": [
      "epoch 47 loss is 0.5570\n",
      "epoch 47 val loss is 0.1192\n",
      "epoch 47 val auroc is 0.8575\n",
      "epoch 47 val acc is 0.6687\n",
      "epoch 47 took 115.87 min\n"
     ]
    },
    {
     "name": "stderr",
     "output_type": "stream",
     "text": [
      "/usr/local/lib/python3.8/dist-packages/pydicom/pixel_data_handlers/pillow_handler.py:238: UserWarning: The (0028,0101) 'Bits Stored' value (14-bit) doesn't match the JPEG 2000 data (16-bit). It's recommended that you change the 'Bits Stored' value\n",
      "  warnings.warn(\n",
      "/usr/local/lib/python3.8/dist-packages/pydicom/pixel_data_handlers/pillow_handler.py:238: UserWarning: The (0028,0101) 'Bits Stored' value (12-bit) doesn't match the JPEG 2000 data (16-bit). It's recommended that you change the 'Bits Stored' value\n",
      "  warnings.warn(\n"
     ]
    },
    {
     "name": "stdout",
     "output_type": "stream",
     "text": [
      "epoch 48 loss is 0.5307\n",
      "epoch 48 val loss is 0.1223\n",
      "epoch 48 val auroc is 0.8710\n",
      "epoch 48 val acc is 0.6920\n",
      "epoch 48 took 116.13 min\n"
     ]
    },
    {
     "name": "stderr",
     "output_type": "stream",
     "text": [
      "/usr/local/lib/python3.8/dist-packages/pydicom/pixel_data_handlers/pillow_handler.py:238: UserWarning: The (0028,0101) 'Bits Stored' value (12-bit) doesn't match the JPEG 2000 data (16-bit). It's recommended that you change the 'Bits Stored' value\n",
      "  warnings.warn(\n",
      "/usr/local/lib/python3.8/dist-packages/pydicom/pixel_data_handlers/pillow_handler.py:238: UserWarning: The (0028,0101) 'Bits Stored' value (14-bit) doesn't match the JPEG 2000 data (16-bit). It's recommended that you change the 'Bits Stored' value\n",
      "  warnings.warn(\n"
     ]
    },
    {
     "name": "stdout",
     "output_type": "stream",
     "text": [
      "epoch 49 loss is 0.4971\n",
      "epoch 49 val loss is 0.1250\n",
      "epoch 49 val auroc is 0.8381\n",
      "epoch 49 val acc is 0.6287\n",
      "epoch 49 took 116.14 min\n"
     ]
    },
    {
     "name": "stderr",
     "output_type": "stream",
     "text": [
      "/usr/local/lib/python3.8/dist-packages/pydicom/pixel_data_handlers/pillow_handler.py:238: UserWarning: The (0028,0101) 'Bits Stored' value (12-bit) doesn't match the JPEG 2000 data (16-bit). It's recommended that you change the 'Bits Stored' value\n",
      "  warnings.warn(\n",
      "/usr/local/lib/python3.8/dist-packages/pydicom/pixel_data_handlers/pillow_handler.py:238: UserWarning: The (0028,0101) 'Bits Stored' value (14-bit) doesn't match the JPEG 2000 data (16-bit). It's recommended that you change the 'Bits Stored' value\n",
      "  warnings.warn(\n"
     ]
    },
    {
     "name": "stdout",
     "output_type": "stream",
     "text": [
      "epoch 50 loss is 0.5602\n",
      "epoch 50 val loss is 0.1249\n",
      "epoch 50 val auroc is 0.8137\n",
      "epoch 50 val acc is 0.6320\n",
      "epoch 50 took 116.34 min\n"
     ]
    },
    {
     "name": "stderr",
     "output_type": "stream",
     "text": [
      "/usr/local/lib/python3.8/dist-packages/pydicom/pixel_data_handlers/pillow_handler.py:238: UserWarning: The (0028,0101) 'Bits Stored' value (12-bit) doesn't match the JPEG 2000 data (16-bit). It's recommended that you change the 'Bits Stored' value\n",
      "  warnings.warn(\n",
      "/usr/local/lib/python3.8/dist-packages/pydicom/pixel_data_handlers/pillow_handler.py:238: UserWarning: The (0028,0101) 'Bits Stored' value (14-bit) doesn't match the JPEG 2000 data (16-bit). It's recommended that you change the 'Bits Stored' value\n",
      "  warnings.warn(\n"
     ]
    },
    {
     "name": "stdout",
     "output_type": "stream",
     "text": [
      "epoch 51 loss is 0.5737\n",
      "epoch 51 val loss is 0.1320\n",
      "epoch 51 val auroc is 0.8191\n",
      "epoch 51 val acc is 0.5933\n",
      "epoch 51 took 117.46 min\n"
     ]
    },
    {
     "name": "stderr",
     "output_type": "stream",
     "text": [
      "/usr/local/lib/python3.8/dist-packages/pydicom/pixel_data_handlers/pillow_handler.py:238: UserWarning: The (0028,0101) 'Bits Stored' value (12-bit) doesn't match the JPEG 2000 data (16-bit). It's recommended that you change the 'Bits Stored' value\n",
      "  warnings.warn(\n",
      "/usr/local/lib/python3.8/dist-packages/pydicom/pixel_data_handlers/pillow_handler.py:238: UserWarning: The (0028,0101) 'Bits Stored' value (14-bit) doesn't match the JPEG 2000 data (16-bit). It's recommended that you change the 'Bits Stored' value\n",
      "  warnings.warn(\n"
     ]
    },
    {
     "name": "stdout",
     "output_type": "stream",
     "text": [
      "epoch 52 loss is 0.5141\n",
      "epoch 52 val loss is 0.1349\n",
      "epoch 52 val auroc is 0.8215\n",
      "epoch 52 val acc is 0.6013\n",
      "epoch 52 took 117.48 min\n"
     ]
    },
    {
     "name": "stderr",
     "output_type": "stream",
     "text": [
      "/usr/local/lib/python3.8/dist-packages/pydicom/pixel_data_handlers/pillow_handler.py:238: UserWarning: The (0028,0101) 'Bits Stored' value (12-bit) doesn't match the JPEG 2000 data (16-bit). It's recommended that you change the 'Bits Stored' value\n",
      "  warnings.warn(\n",
      "/usr/local/lib/python3.8/dist-packages/pydicom/pixel_data_handlers/pillow_handler.py:238: UserWarning: The (0028,0101) 'Bits Stored' value (14-bit) doesn't match the JPEG 2000 data (16-bit). It's recommended that you change the 'Bits Stored' value\n",
      "  warnings.warn(\n"
     ]
    },
    {
     "name": "stdout",
     "output_type": "stream",
     "text": [
      "epoch 53 loss is 0.5317\n",
      "epoch 53 val loss is 0.1177\n",
      "epoch 53 val auroc is 0.8627\n",
      "epoch 53 val acc is 0.6733\n",
      "epoch 53 took 116.91 min\n"
     ]
    },
    {
     "name": "stderr",
     "output_type": "stream",
     "text": [
      "/usr/local/lib/python3.8/dist-packages/pydicom/pixel_data_handlers/pillow_handler.py:238: UserWarning: The (0028,0101) 'Bits Stored' value (14-bit) doesn't match the JPEG 2000 data (16-bit). It's recommended that you change the 'Bits Stored' value\n",
      "  warnings.warn(\n",
      "/usr/local/lib/python3.8/dist-packages/pydicom/pixel_data_handlers/pillow_handler.py:238: UserWarning: The (0028,0101) 'Bits Stored' value (12-bit) doesn't match the JPEG 2000 data (16-bit). It's recommended that you change the 'Bits Stored' value\n",
      "  warnings.warn(\n"
     ]
    },
    {
     "name": "stdout",
     "output_type": "stream",
     "text": [
      "epoch 54 loss is 0.4730\n",
      "epoch 54 val loss is 0.1253\n",
      "epoch 54 val auroc is 0.8589\n",
      "epoch 54 val acc is 0.6467\n",
      "epoch 54 took 116.74 min\n"
     ]
    },
    {
     "name": "stderr",
     "output_type": "stream",
     "text": [
      "/usr/local/lib/python3.8/dist-packages/pydicom/pixel_data_handlers/pillow_handler.py:238: UserWarning: The (0028,0101) 'Bits Stored' value (14-bit) doesn't match the JPEG 2000 data (16-bit). It's recommended that you change the 'Bits Stored' value\n",
      "  warnings.warn(\n",
      "/usr/local/lib/python3.8/dist-packages/pydicom/pixel_data_handlers/pillow_handler.py:238: UserWarning: The (0028,0101) 'Bits Stored' value (12-bit) doesn't match the JPEG 2000 data (16-bit). It's recommended that you change the 'Bits Stored' value\n",
      "  warnings.warn(\n"
     ]
    },
    {
     "name": "stdout",
     "output_type": "stream",
     "text": [
      "epoch 55 loss is 0.4674\n",
      "epoch 55 val loss is 0.1282\n",
      "epoch 55 val auroc is 0.8521\n",
      "epoch 55 val acc is 0.6547\n",
      "epoch 55 took 117.61 min\n"
     ]
    },
    {
     "name": "stderr",
     "output_type": "stream",
     "text": [
      "/usr/local/lib/python3.8/dist-packages/pydicom/pixel_data_handlers/pillow_handler.py:238: UserWarning: The (0028,0101) 'Bits Stored' value (12-bit) doesn't match the JPEG 2000 data (16-bit). It's recommended that you change the 'Bits Stored' value\n",
      "  warnings.warn(\n",
      "/usr/local/lib/python3.8/dist-packages/pydicom/pixel_data_handlers/pillow_handler.py:238: UserWarning: The (0028,0101) 'Bits Stored' value (14-bit) doesn't match the JPEG 2000 data (16-bit). It's recommended that you change the 'Bits Stored' value\n",
      "  warnings.warn(\n"
     ]
    },
    {
     "name": "stdout",
     "output_type": "stream",
     "text": [
      "epoch 56 loss is 0.4432\n",
      "epoch 56 val loss is 0.1243\n",
      "epoch 56 val auroc is 0.8538\n",
      "epoch 56 val acc is 0.6500\n",
      "epoch 56 took 116.90 min\n"
     ]
    },
    {
     "name": "stderr",
     "output_type": "stream",
     "text": [
      "/usr/local/lib/python3.8/dist-packages/pydicom/pixel_data_handlers/pillow_handler.py:238: UserWarning: The (0028,0101) 'Bits Stored' value (14-bit) doesn't match the JPEG 2000 data (16-bit). It's recommended that you change the 'Bits Stored' value\n",
      "  warnings.warn(\n",
      "/usr/local/lib/python3.8/dist-packages/pydicom/pixel_data_handlers/pillow_handler.py:238: UserWarning: The (0028,0101) 'Bits Stored' value (12-bit) doesn't match the JPEG 2000 data (16-bit). It's recommended that you change the 'Bits Stored' value\n",
      "  warnings.warn(\n"
     ]
    },
    {
     "name": "stdout",
     "output_type": "stream",
     "text": [
      "epoch 57 loss is 0.4487\n",
      "epoch 57 val loss is 0.1276\n",
      "epoch 57 val auroc is 0.8298\n",
      "epoch 57 val acc is 0.6613\n",
      "epoch 57 took 117.30 min\n"
     ]
    },
    {
     "name": "stderr",
     "output_type": "stream",
     "text": [
      "/usr/local/lib/python3.8/dist-packages/pydicom/pixel_data_handlers/pillow_handler.py:238: UserWarning: The (0028,0101) 'Bits Stored' value (14-bit) doesn't match the JPEG 2000 data (16-bit). It's recommended that you change the 'Bits Stored' value\n",
      "  warnings.warn(\n",
      "/usr/local/lib/python3.8/dist-packages/pydicom/pixel_data_handlers/pillow_handler.py:238: UserWarning: The (0028,0101) 'Bits Stored' value (12-bit) doesn't match the JPEG 2000 data (16-bit). It's recommended that you change the 'Bits Stored' value\n",
      "  warnings.warn(\n"
     ]
    },
    {
     "name": "stdout",
     "output_type": "stream",
     "text": [
      "epoch 58 loss is 0.4586\n",
      "epoch 58 val loss is 0.1299\n",
      "epoch 58 val auroc is 0.8350\n",
      "epoch 58 val acc is 0.6160\n",
      "epoch 58 took 117.30 min\n"
     ]
    },
    {
     "name": "stderr",
     "output_type": "stream",
     "text": [
      "/usr/local/lib/python3.8/dist-packages/pydicom/pixel_data_handlers/pillow_handler.py:238: UserWarning: The (0028,0101) 'Bits Stored' value (12-bit) doesn't match the JPEG 2000 data (16-bit). It's recommended that you change the 'Bits Stored' value\n",
      "  warnings.warn(\n",
      "/usr/local/lib/python3.8/dist-packages/pydicom/pixel_data_handlers/pillow_handler.py:238: UserWarning: The (0028,0101) 'Bits Stored' value (14-bit) doesn't match the JPEG 2000 data (16-bit). It's recommended that you change the 'Bits Stored' value\n",
      "  warnings.warn(\n"
     ]
    },
    {
     "name": "stdout",
     "output_type": "stream",
     "text": [
      "epoch 59 loss is 0.4771\n",
      "epoch 59 val loss is 0.1306\n",
      "epoch 59 val auroc is 0.8185\n",
      "epoch 59 val acc is 0.6020\n",
      "epoch 59 took 117.28 min\n"
     ]
    },
    {
     "name": "stderr",
     "output_type": "stream",
     "text": [
      "/usr/local/lib/python3.8/dist-packages/pydicom/pixel_data_handlers/pillow_handler.py:238: UserWarning: The (0028,0101) 'Bits Stored' value (12-bit) doesn't match the JPEG 2000 data (16-bit). It's recommended that you change the 'Bits Stored' value\n",
      "  warnings.warn(\n",
      "/usr/local/lib/python3.8/dist-packages/pydicom/pixel_data_handlers/pillow_handler.py:238: UserWarning: The (0028,0101) 'Bits Stored' value (14-bit) doesn't match the JPEG 2000 data (16-bit). It's recommended that you change the 'Bits Stored' value\n",
      "  warnings.warn(\n"
     ]
    },
    {
     "name": "stdout",
     "output_type": "stream",
     "text": [
      "epoch 60 loss is 0.5102\n",
      "epoch 60 val loss is 0.1145\n",
      "epoch 60 val auroc is 0.8500\n",
      "epoch 60 val acc is 0.6627\n",
      "epoch 60 took 118.20 min\n"
     ]
    },
    {
     "name": "stderr",
     "output_type": "stream",
     "text": [
      "/usr/local/lib/python3.8/dist-packages/pydicom/pixel_data_handlers/pillow_handler.py:238: UserWarning: The (0028,0101) 'Bits Stored' value (12-bit) doesn't match the JPEG 2000 data (16-bit). It's recommended that you change the 'Bits Stored' value\n",
      "  warnings.warn(\n",
      "/usr/local/lib/python3.8/dist-packages/pydicom/pixel_data_handlers/pillow_handler.py:238: UserWarning: The (0028,0101) 'Bits Stored' value (14-bit) doesn't match the JPEG 2000 data (16-bit). It's recommended that you change the 'Bits Stored' value\n",
      "  warnings.warn(\n"
     ]
    },
    {
     "name": "stdout",
     "output_type": "stream",
     "text": [
      "epoch 61 loss is 0.4615\n",
      "epoch 61 val loss is 0.1306\n",
      "epoch 61 val auroc is 0.8316\n",
      "epoch 61 val acc is 0.6360\n",
      "epoch 61 took 117.83 min\n"
     ]
    },
    {
     "name": "stderr",
     "output_type": "stream",
     "text": [
      "/usr/local/lib/python3.8/dist-packages/pydicom/pixel_data_handlers/pillow_handler.py:238: UserWarning: The (0028,0101) 'Bits Stored' value (12-bit) doesn't match the JPEG 2000 data (16-bit). It's recommended that you change the 'Bits Stored' value\n",
      "  warnings.warn(\n",
      "/usr/local/lib/python3.8/dist-packages/pydicom/pixel_data_handlers/pillow_handler.py:238: UserWarning: The (0028,0101) 'Bits Stored' value (14-bit) doesn't match the JPEG 2000 data (16-bit). It's recommended that you change the 'Bits Stored' value\n",
      "  warnings.warn(\n"
     ]
    },
    {
     "name": "stdout",
     "output_type": "stream",
     "text": [
      "epoch 62 loss is 0.4366\n",
      "epoch 62 val loss is 0.1103\n",
      "epoch 62 val auroc is 0.8745\n",
      "epoch 62 val acc is 0.6647\n",
      "epoch 62 took 118.29 min\n"
     ]
    },
    {
     "name": "stderr",
     "output_type": "stream",
     "text": [
      "/usr/local/lib/python3.8/dist-packages/pydicom/pixel_data_handlers/pillow_handler.py:238: UserWarning: The (0028,0101) 'Bits Stored' value (12-bit) doesn't match the JPEG 2000 data (16-bit). It's recommended that you change the 'Bits Stored' value\n",
      "  warnings.warn(\n",
      "/usr/local/lib/python3.8/dist-packages/pydicom/pixel_data_handlers/pillow_handler.py:238: UserWarning: The (0028,0101) 'Bits Stored' value (14-bit) doesn't match the JPEG 2000 data (16-bit). It's recommended that you change the 'Bits Stored' value\n",
      "  warnings.warn(\n"
     ]
    },
    {
     "name": "stdout",
     "output_type": "stream",
     "text": [
      "epoch 63 loss is 0.3948\n",
      "epoch 63 val loss is 0.1150\n",
      "epoch 63 val auroc is 0.8610\n",
      "epoch 63 val acc is 0.6593\n",
      "epoch 63 took 117.22 min\n"
     ]
    },
    {
     "name": "stderr",
     "output_type": "stream",
     "text": [
      "/usr/local/lib/python3.8/dist-packages/pydicom/pixel_data_handlers/pillow_handler.py:238: UserWarning: The (0028,0101) 'Bits Stored' value (14-bit) doesn't match the JPEG 2000 data (16-bit). It's recommended that you change the 'Bits Stored' value\n",
      "  warnings.warn(\n",
      "/usr/local/lib/python3.8/dist-packages/pydicom/pixel_data_handlers/pillow_handler.py:238: UserWarning: The (0028,0101) 'Bits Stored' value (12-bit) doesn't match the JPEG 2000 data (16-bit). It's recommended that you change the 'Bits Stored' value\n",
      "  warnings.warn(\n"
     ]
    },
    {
     "name": "stdout",
     "output_type": "stream",
     "text": [
      "epoch 64 loss is 0.3767\n",
      "epoch 64 val loss is 0.1141\n",
      "epoch 64 val auroc is 0.8720\n",
      "epoch 64 val acc is 0.6560\n",
      "epoch 64 took 117.00 min\n"
     ]
    },
    {
     "name": "stderr",
     "output_type": "stream",
     "text": [
      "/usr/local/lib/python3.8/dist-packages/pydicom/pixel_data_handlers/pillow_handler.py:238: UserWarning: The (0028,0101) 'Bits Stored' value (12-bit) doesn't match the JPEG 2000 data (16-bit). It's recommended that you change the 'Bits Stored' value\n",
      "  warnings.warn(\n",
      "/usr/local/lib/python3.8/dist-packages/pydicom/pixel_data_handlers/pillow_handler.py:238: UserWarning: The (0028,0101) 'Bits Stored' value (14-bit) doesn't match the JPEG 2000 data (16-bit). It's recommended that you change the 'Bits Stored' value\n",
      "  warnings.warn(\n"
     ]
    },
    {
     "name": "stdout",
     "output_type": "stream",
     "text": [
      "epoch 65 loss is 0.3852\n",
      "epoch 65 val loss is 0.1139\n",
      "epoch 65 val auroc is 0.8530\n",
      "epoch 65 val acc is 0.6660\n",
      "epoch 65 took 117.44 min\n"
     ]
    },
    {
     "name": "stderr",
     "output_type": "stream",
     "text": [
      "/usr/local/lib/python3.8/dist-packages/pydicom/pixel_data_handlers/pillow_handler.py:238: UserWarning: The (0028,0101) 'Bits Stored' value (14-bit) doesn't match the JPEG 2000 data (16-bit). It's recommended that you change the 'Bits Stored' value\n",
      "  warnings.warn(\n",
      "/usr/local/lib/python3.8/dist-packages/pydicom/pixel_data_handlers/pillow_handler.py:238: UserWarning: The (0028,0101) 'Bits Stored' value (12-bit) doesn't match the JPEG 2000 data (16-bit). It's recommended that you change the 'Bits Stored' value\n",
      "  warnings.warn(\n"
     ]
    },
    {
     "name": "stdout",
     "output_type": "stream",
     "text": [
      "epoch 66 loss is 0.4134\n",
      "epoch 66 val loss is 0.1322\n",
      "epoch 66 val auroc is 0.8505\n",
      "epoch 66 val acc is 0.6047\n",
      "epoch 66 took 117.47 min\n"
     ]
    },
    {
     "name": "stderr",
     "output_type": "stream",
     "text": [
      "/usr/local/lib/python3.8/dist-packages/pydicom/pixel_data_handlers/pillow_handler.py:238: UserWarning: The (0028,0101) 'Bits Stored' value (12-bit) doesn't match the JPEG 2000 data (16-bit). It's recommended that you change the 'Bits Stored' value\n",
      "  warnings.warn(\n",
      "/usr/local/lib/python3.8/dist-packages/pydicom/pixel_data_handlers/pillow_handler.py:238: UserWarning: The (0028,0101) 'Bits Stored' value (14-bit) doesn't match the JPEG 2000 data (16-bit). It's recommended that you change the 'Bits Stored' value\n",
      "  warnings.warn(\n"
     ]
    },
    {
     "name": "stdout",
     "output_type": "stream",
     "text": [
      "epoch 67 loss is 0.5631\n",
      "epoch 67 val loss is 0.1323\n",
      "epoch 67 val auroc is 0.8113\n",
      "epoch 67 val acc is 0.5800\n",
      "epoch 67 took 117.86 min\n"
     ]
    },
    {
     "name": "stderr",
     "output_type": "stream",
     "text": [
      "/usr/local/lib/python3.8/dist-packages/pydicom/pixel_data_handlers/pillow_handler.py:238: UserWarning: The (0028,0101) 'Bits Stored' value (12-bit) doesn't match the JPEG 2000 data (16-bit). It's recommended that you change the 'Bits Stored' value\n",
      "  warnings.warn(\n",
      "/usr/local/lib/python3.8/dist-packages/pydicom/pixel_data_handlers/pillow_handler.py:238: UserWarning: The (0028,0101) 'Bits Stored' value (14-bit) doesn't match the JPEG 2000 data (16-bit). It's recommended that you change the 'Bits Stored' value\n",
      "  warnings.warn(\n"
     ]
    },
    {
     "name": "stdout",
     "output_type": "stream",
     "text": [
      "epoch 68 loss is 0.4564\n",
      "epoch 68 val loss is 0.1214\n",
      "epoch 68 val auroc is 0.8310\n",
      "epoch 68 val acc is 0.6260\n",
      "epoch 68 took 117.42 min\n"
     ]
    },
    {
     "name": "stderr",
     "output_type": "stream",
     "text": [
      "/usr/local/lib/python3.8/dist-packages/pydicom/pixel_data_handlers/pillow_handler.py:238: UserWarning: The (0028,0101) 'Bits Stored' value (12-bit) doesn't match the JPEG 2000 data (16-bit). It's recommended that you change the 'Bits Stored' value\n",
      "  warnings.warn(\n",
      "/usr/local/lib/python3.8/dist-packages/pydicom/pixel_data_handlers/pillow_handler.py:238: UserWarning: The (0028,0101) 'Bits Stored' value (14-bit) doesn't match the JPEG 2000 data (16-bit). It's recommended that you change the 'Bits Stored' value\n",
      "  warnings.warn(\n"
     ]
    },
    {
     "name": "stdout",
     "output_type": "stream",
     "text": [
      "epoch 69 loss is 0.4295\n",
      "epoch 69 val loss is 0.1167\n",
      "epoch 69 val auroc is 0.8284\n",
      "epoch 69 val acc is 0.6687\n",
      "epoch 69 took 117.40 min\n"
     ]
    },
    {
     "name": "stderr",
     "output_type": "stream",
     "text": [
      "/usr/local/lib/python3.8/dist-packages/pydicom/pixel_data_handlers/pillow_handler.py:238: UserWarning: The (0028,0101) 'Bits Stored' value (12-bit) doesn't match the JPEG 2000 data (16-bit). It's recommended that you change the 'Bits Stored' value\n",
      "  warnings.warn(\n",
      "/usr/local/lib/python3.8/dist-packages/pydicom/pixel_data_handlers/pillow_handler.py:238: UserWarning: The (0028,0101) 'Bits Stored' value (14-bit) doesn't match the JPEG 2000 data (16-bit). It's recommended that you change the 'Bits Stored' value\n",
      "  warnings.warn(\n"
     ]
    },
    {
     "name": "stdout",
     "output_type": "stream",
     "text": [
      "epoch 70 loss is 0.3647\n",
      "epoch 70 val loss is 0.1179\n",
      "epoch 70 val auroc is 0.8518\n",
      "epoch 70 val acc is 0.6720\n",
      "epoch 70 took 117.10 min\n"
     ]
    },
    {
     "name": "stderr",
     "output_type": "stream",
     "text": [
      "/usr/local/lib/python3.8/dist-packages/pydicom/pixel_data_handlers/pillow_handler.py:238: UserWarning: The (0028,0101) 'Bits Stored' value (12-bit) doesn't match the JPEG 2000 data (16-bit). It's recommended that you change the 'Bits Stored' value\n",
      "  warnings.warn(\n",
      "/usr/local/lib/python3.8/dist-packages/pydicom/pixel_data_handlers/pillow_handler.py:238: UserWarning: The (0028,0101) 'Bits Stored' value (14-bit) doesn't match the JPEG 2000 data (16-bit). It's recommended that you change the 'Bits Stored' value\n",
      "  warnings.warn(\n"
     ]
    },
    {
     "name": "stdout",
     "output_type": "stream",
     "text": [
      "epoch 71 loss is 0.3281\n",
      "epoch 71 val loss is 0.1207\n",
      "epoch 71 val auroc is 0.8457\n",
      "epoch 71 val acc is 0.6140\n",
      "epoch 71 took 117.56 min\n"
     ]
    },
    {
     "name": "stderr",
     "output_type": "stream",
     "text": [
      "/usr/local/lib/python3.8/dist-packages/pydicom/pixel_data_handlers/pillow_handler.py:238: UserWarning: The (0028,0101) 'Bits Stored' value (12-bit) doesn't match the JPEG 2000 data (16-bit). It's recommended that you change the 'Bits Stored' value\n",
      "  warnings.warn(\n",
      "/usr/local/lib/python3.8/dist-packages/pydicom/pixel_data_handlers/pillow_handler.py:238: UserWarning: The (0028,0101) 'Bits Stored' value (14-bit) doesn't match the JPEG 2000 data (16-bit). It's recommended that you change the 'Bits Stored' value\n",
      "  warnings.warn(\n"
     ]
    },
    {
     "name": "stdout",
     "output_type": "stream",
     "text": [
      "epoch 72 loss is 0.3283\n",
      "epoch 72 val loss is 0.1268\n",
      "epoch 72 val auroc is 0.8483\n",
      "epoch 72 val acc is 0.6800\n",
      "epoch 72 took 117.80 min\n"
     ]
    },
    {
     "name": "stderr",
     "output_type": "stream",
     "text": [
      "/usr/local/lib/python3.8/dist-packages/pydicom/pixel_data_handlers/pillow_handler.py:238: UserWarning: The (0028,0101) 'Bits Stored' value (12-bit) doesn't match the JPEG 2000 data (16-bit). It's recommended that you change the 'Bits Stored' value\n",
      "  warnings.warn(\n",
      "/usr/local/lib/python3.8/dist-packages/pydicom/pixel_data_handlers/pillow_handler.py:238: UserWarning: The (0028,0101) 'Bits Stored' value (14-bit) doesn't match the JPEG 2000 data (16-bit). It's recommended that you change the 'Bits Stored' value\n",
      "  warnings.warn(\n"
     ]
    },
    {
     "name": "stdout",
     "output_type": "stream",
     "text": [
      "epoch 73 loss is 0.3456\n",
      "epoch 73 val loss is 0.1304\n",
      "epoch 73 val auroc is 0.8194\n",
      "epoch 73 val acc is 0.6280\n",
      "epoch 73 took 117.64 min\n"
     ]
    },
    {
     "name": "stderr",
     "output_type": "stream",
     "text": [
      "/usr/local/lib/python3.8/dist-packages/pydicom/pixel_data_handlers/pillow_handler.py:238: UserWarning: The (0028,0101) 'Bits Stored' value (12-bit) doesn't match the JPEG 2000 data (16-bit). It's recommended that you change the 'Bits Stored' value\n",
      "  warnings.warn(\n",
      "/usr/local/lib/python3.8/dist-packages/pydicom/pixel_data_handlers/pillow_handler.py:238: UserWarning: The (0028,0101) 'Bits Stored' value (14-bit) doesn't match the JPEG 2000 data (16-bit). It's recommended that you change the 'Bits Stored' value\n",
      "  warnings.warn(\n"
     ]
    },
    {
     "name": "stdout",
     "output_type": "stream",
     "text": [
      "epoch 74 loss is 0.3097\n",
      "epoch 74 val loss is 0.1324\n",
      "epoch 74 val auroc is 0.8266\n",
      "epoch 74 val acc is 0.6613\n",
      "epoch 74 took 116.05 min\n"
     ]
    },
    {
     "name": "stderr",
     "output_type": "stream",
     "text": [
      "/usr/local/lib/python3.8/dist-packages/pydicom/pixel_data_handlers/pillow_handler.py:238: UserWarning: The (0028,0101) 'Bits Stored' value (14-bit) doesn't match the JPEG 2000 data (16-bit). It's recommended that you change the 'Bits Stored' value\n",
      "  warnings.warn(\n",
      "/usr/local/lib/python3.8/dist-packages/pydicom/pixel_data_handlers/pillow_handler.py:238: UserWarning: The (0028,0101) 'Bits Stored' value (12-bit) doesn't match the JPEG 2000 data (16-bit). It's recommended that you change the 'Bits Stored' value\n",
      "  warnings.warn(\n"
     ]
    },
    {
     "name": "stdout",
     "output_type": "stream",
     "text": [
      "epoch 75 loss is 0.2897\n",
      "epoch 75 val loss is 0.1253\n",
      "epoch 75 val auroc is 0.8046\n",
      "epoch 75 val acc is 0.6620\n",
      "epoch 75 took 116.37 min\n"
     ]
    },
    {
     "name": "stderr",
     "output_type": "stream",
     "text": [
      "/usr/local/lib/python3.8/dist-packages/pydicom/pixel_data_handlers/pillow_handler.py:238: UserWarning: The (0028,0101) 'Bits Stored' value (14-bit) doesn't match the JPEG 2000 data (16-bit). It's recommended that you change the 'Bits Stored' value\n",
      "  warnings.warn(\n",
      "/usr/local/lib/python3.8/dist-packages/pydicom/pixel_data_handlers/pillow_handler.py:238: UserWarning: The (0028,0101) 'Bits Stored' value (12-bit) doesn't match the JPEG 2000 data (16-bit). It's recommended that you change the 'Bits Stored' value\n",
      "  warnings.warn(\n"
     ]
    },
    {
     "name": "stdout",
     "output_type": "stream",
     "text": [
      "epoch 76 loss is 0.3244\n",
      "epoch 76 val loss is 0.1176\n",
      "epoch 76 val auroc is 0.8280\n",
      "epoch 76 val acc is 0.6627\n",
      "epoch 76 took 116.05 min\n"
     ]
    },
    {
     "name": "stderr",
     "output_type": "stream",
     "text": [
      "/usr/local/lib/python3.8/dist-packages/pydicom/pixel_data_handlers/pillow_handler.py:238: UserWarning: The (0028,0101) 'Bits Stored' value (12-bit) doesn't match the JPEG 2000 data (16-bit). It's recommended that you change the 'Bits Stored' value\n",
      "  warnings.warn(\n",
      "/usr/local/lib/python3.8/dist-packages/pydicom/pixel_data_handlers/pillow_handler.py:238: UserWarning: The (0028,0101) 'Bits Stored' value (14-bit) doesn't match the JPEG 2000 data (16-bit). It's recommended that you change the 'Bits Stored' value\n",
      "  warnings.warn(\n"
     ]
    },
    {
     "name": "stdout",
     "output_type": "stream",
     "text": [
      "epoch 77 loss is 0.3051\n",
      "epoch 77 val loss is 0.1478\n",
      "epoch 77 val auroc is 0.8099\n",
      "epoch 77 val acc is 0.5813\n",
      "epoch 77 took 116.30 min\n"
     ]
    },
    {
     "name": "stderr",
     "output_type": "stream",
     "text": [
      "/usr/local/lib/python3.8/dist-packages/pydicom/pixel_data_handlers/pillow_handler.py:238: UserWarning: The (0028,0101) 'Bits Stored' value (12-bit) doesn't match the JPEG 2000 data (16-bit). It's recommended that you change the 'Bits Stored' value\n",
      "  warnings.warn(\n",
      "/usr/local/lib/python3.8/dist-packages/pydicom/pixel_data_handlers/pillow_handler.py:238: UserWarning: The (0028,0101) 'Bits Stored' value (14-bit) doesn't match the JPEG 2000 data (16-bit). It's recommended that you change the 'Bits Stored' value\n",
      "  warnings.warn(\n"
     ]
    },
    {
     "name": "stdout",
     "output_type": "stream",
     "text": [
      "epoch 78 loss is 0.3364\n",
      "epoch 78 val loss is 0.1606\n",
      "epoch 78 val auroc is 0.8024\n",
      "epoch 78 val acc is 0.5700\n",
      "epoch 78 took 116.57 min\n"
     ]
    },
    {
     "name": "stderr",
     "output_type": "stream",
     "text": [
      "/usr/local/lib/python3.8/dist-packages/pydicom/pixel_data_handlers/pillow_handler.py:238: UserWarning: The (0028,0101) 'Bits Stored' value (12-bit) doesn't match the JPEG 2000 data (16-bit). It's recommended that you change the 'Bits Stored' value\n",
      "  warnings.warn(\n",
      "/usr/local/lib/python3.8/dist-packages/pydicom/pixel_data_handlers/pillow_handler.py:238: UserWarning: The (0028,0101) 'Bits Stored' value (14-bit) doesn't match the JPEG 2000 data (16-bit). It's recommended that you change the 'Bits Stored' value\n",
      "  warnings.warn(\n"
     ]
    },
    {
     "name": "stdout",
     "output_type": "stream",
     "text": [
      "epoch 79 loss is 0.3595\n",
      "epoch 79 val loss is 0.1217\n",
      "epoch 79 val auroc is 0.8459\n",
      "epoch 79 val acc is 0.6727\n",
      "epoch 79 took 116.19 min\n"
     ]
    },
    {
     "name": "stderr",
     "output_type": "stream",
     "text": [
      "/usr/local/lib/python3.8/dist-packages/pydicom/pixel_data_handlers/pillow_handler.py:238: UserWarning: The (0028,0101) 'Bits Stored' value (12-bit) doesn't match the JPEG 2000 data (16-bit). It's recommended that you change the 'Bits Stored' value\n",
      "  warnings.warn(\n",
      "/usr/local/lib/python3.8/dist-packages/pydicom/pixel_data_handlers/pillow_handler.py:238: UserWarning: The (0028,0101) 'Bits Stored' value (14-bit) doesn't match the JPEG 2000 data (16-bit). It's recommended that you change the 'Bits Stored' value\n",
      "  warnings.warn(\n"
     ]
    },
    {
     "name": "stdout",
     "output_type": "stream",
     "text": [
      "epoch 80 loss is 0.2944\n",
      "epoch 80 val loss is 0.1251\n",
      "epoch 80 val auroc is 0.8288\n",
      "epoch 80 val acc is 0.6353\n",
      "epoch 80 took 116.03 min\n"
     ]
    },
    {
     "name": "stderr",
     "output_type": "stream",
     "text": [
      "/usr/local/lib/python3.8/dist-packages/pydicom/pixel_data_handlers/pillow_handler.py:238: UserWarning: The (0028,0101) 'Bits Stored' value (12-bit) doesn't match the JPEG 2000 data (16-bit). It's recommended that you change the 'Bits Stored' value\n",
      "  warnings.warn(\n",
      "/usr/local/lib/python3.8/dist-packages/pydicom/pixel_data_handlers/pillow_handler.py:238: UserWarning: The (0028,0101) 'Bits Stored' value (14-bit) doesn't match the JPEG 2000 data (16-bit). It's recommended that you change the 'Bits Stored' value\n",
      "  warnings.warn(\n"
     ]
    },
    {
     "name": "stdout",
     "output_type": "stream",
     "text": [
      "epoch 81 loss is 0.3172\n",
      "epoch 81 val loss is 0.1209\n",
      "epoch 81 val auroc is 0.8462\n",
      "epoch 81 val acc is 0.6767\n",
      "epoch 81 took 116.17 min\n"
     ]
    },
    {
     "name": "stderr",
     "output_type": "stream",
     "text": [
      "/usr/local/lib/python3.8/dist-packages/pydicom/pixel_data_handlers/pillow_handler.py:238: UserWarning: The (0028,0101) 'Bits Stored' value (12-bit) doesn't match the JPEG 2000 data (16-bit). It's recommended that you change the 'Bits Stored' value\n",
      "  warnings.warn(\n",
      "/usr/local/lib/python3.8/dist-packages/pydicom/pixel_data_handlers/pillow_handler.py:238: UserWarning: The (0028,0101) 'Bits Stored' value (14-bit) doesn't match the JPEG 2000 data (16-bit). It's recommended that you change the 'Bits Stored' value\n",
      "  warnings.warn(\n"
     ]
    },
    {
     "name": "stdout",
     "output_type": "stream",
     "text": [
      "epoch 82 loss is 0.3338\n",
      "epoch 82 val loss is 0.1528\n",
      "epoch 82 val auroc is 0.7914\n",
      "epoch 82 val acc is 0.5687\n",
      "epoch 82 took 116.86 min\n"
     ]
    },
    {
     "name": "stderr",
     "output_type": "stream",
     "text": [
      "/usr/local/lib/python3.8/dist-packages/pydicom/pixel_data_handlers/pillow_handler.py:238: UserWarning: The (0028,0101) 'Bits Stored' value (12-bit) doesn't match the JPEG 2000 data (16-bit). It's recommended that you change the 'Bits Stored' value\n",
      "  warnings.warn(\n",
      "/usr/local/lib/python3.8/dist-packages/pydicom/pixel_data_handlers/pillow_handler.py:238: UserWarning: The (0028,0101) 'Bits Stored' value (14-bit) doesn't match the JPEG 2000 data (16-bit). It's recommended that you change the 'Bits Stored' value\n",
      "  warnings.warn(\n"
     ]
    },
    {
     "name": "stdout",
     "output_type": "stream",
     "text": [
      "epoch 83 loss is 0.2770\n",
      "epoch 83 val loss is 0.1308\n",
      "epoch 83 val auroc is 0.8345\n",
      "epoch 83 val acc is 0.6733\n",
      "epoch 83 took 116.00 min\n"
     ]
    },
    {
     "name": "stderr",
     "output_type": "stream",
     "text": [
      "/usr/local/lib/python3.8/dist-packages/pydicom/pixel_data_handlers/pillow_handler.py:238: UserWarning: The (0028,0101) 'Bits Stored' value (12-bit) doesn't match the JPEG 2000 data (16-bit). It's recommended that you change the 'Bits Stored' value\n",
      "  warnings.warn(\n",
      "/usr/local/lib/python3.8/dist-packages/pydicom/pixel_data_handlers/pillow_handler.py:238: UserWarning: The (0028,0101) 'Bits Stored' value (14-bit) doesn't match the JPEG 2000 data (16-bit). It's recommended that you change the 'Bits Stored' value\n",
      "  warnings.warn(\n"
     ]
    },
    {
     "name": "stdout",
     "output_type": "stream",
     "text": [
      "epoch 84 loss is 0.2516\n",
      "epoch 84 val loss is 0.1281\n",
      "epoch 84 val auroc is 0.8189\n",
      "epoch 84 val acc is 0.6613\n",
      "epoch 84 took 118.08 min\n"
     ]
    },
    {
     "name": "stderr",
     "output_type": "stream",
     "text": [
      "/usr/local/lib/python3.8/dist-packages/pydicom/pixel_data_handlers/pillow_handler.py:238: UserWarning: The (0028,0101) 'Bits Stored' value (14-bit) doesn't match the JPEG 2000 data (16-bit). It's recommended that you change the 'Bits Stored' value\n",
      "  warnings.warn(\n",
      "/usr/local/lib/python3.8/dist-packages/pydicom/pixel_data_handlers/pillow_handler.py:238: UserWarning: The (0028,0101) 'Bits Stored' value (12-bit) doesn't match the JPEG 2000 data (16-bit). It's recommended that you change the 'Bits Stored' value\n",
      "  warnings.warn(\n"
     ]
    },
    {
     "name": "stdout",
     "output_type": "stream",
     "text": [
      "epoch 85 loss is 0.3468\n",
      "epoch 85 val loss is 0.1573\n",
      "epoch 85 val auroc is 0.7972\n",
      "epoch 85 val acc is 0.5880\n",
      "epoch 85 took 116.80 min\n"
     ]
    },
    {
     "name": "stderr",
     "output_type": "stream",
     "text": [
      "/usr/local/lib/python3.8/dist-packages/pydicom/pixel_data_handlers/pillow_handler.py:238: UserWarning: The (0028,0101) 'Bits Stored' value (12-bit) doesn't match the JPEG 2000 data (16-bit). It's recommended that you change the 'Bits Stored' value\n",
      "  warnings.warn(\n",
      "/usr/local/lib/python3.8/dist-packages/pydicom/pixel_data_handlers/pillow_handler.py:238: UserWarning: The (0028,0101) 'Bits Stored' value (14-bit) doesn't match the JPEG 2000 data (16-bit). It's recommended that you change the 'Bits Stored' value\n",
      "  warnings.warn(\n"
     ]
    },
    {
     "name": "stdout",
     "output_type": "stream",
     "text": [
      "epoch 86 loss is 0.3601\n",
      "epoch 86 val loss is 0.1154\n",
      "epoch 86 val auroc is 0.8522\n",
      "epoch 86 val acc is 0.6840\n",
      "epoch 86 took 116.79 min\n"
     ]
    },
    {
     "name": "stderr",
     "output_type": "stream",
     "text": [
      "/usr/local/lib/python3.8/dist-packages/pydicom/pixel_data_handlers/pillow_handler.py:238: UserWarning: The (0028,0101) 'Bits Stored' value (12-bit) doesn't match the JPEG 2000 data (16-bit). It's recommended that you change the 'Bits Stored' value\n",
      "  warnings.warn(\n",
      "/usr/local/lib/python3.8/dist-packages/pydicom/pixel_data_handlers/pillow_handler.py:238: UserWarning: The (0028,0101) 'Bits Stored' value (14-bit) doesn't match the JPEG 2000 data (16-bit). It's recommended that you change the 'Bits Stored' value\n",
      "  warnings.warn(\n"
     ]
    },
    {
     "name": "stdout",
     "output_type": "stream",
     "text": [
      "epoch 87 loss is 0.3129\n",
      "epoch 87 val loss is 0.1175\n",
      "epoch 87 val auroc is 0.8418\n",
      "epoch 87 val acc is 0.6653\n",
      "epoch 87 took 116.27 min\n"
     ]
    },
    {
     "name": "stderr",
     "output_type": "stream",
     "text": [
      "/usr/local/lib/python3.8/dist-packages/pydicom/pixel_data_handlers/pillow_handler.py:238: UserWarning: The (0028,0101) 'Bits Stored' value (12-bit) doesn't match the JPEG 2000 data (16-bit). It's recommended that you change the 'Bits Stored' value\n",
      "  warnings.warn(\n",
      "/usr/local/lib/python3.8/dist-packages/pydicom/pixel_data_handlers/pillow_handler.py:238: UserWarning: The (0028,0101) 'Bits Stored' value (14-bit) doesn't match the JPEG 2000 data (16-bit). It's recommended that you change the 'Bits Stored' value\n",
      "  warnings.warn(\n"
     ]
    },
    {
     "name": "stdout",
     "output_type": "stream",
     "text": [
      "epoch 88 loss is 0.2665\n",
      "epoch 88 val loss is 0.1259\n",
      "epoch 88 val auroc is 0.8348\n",
      "epoch 88 val acc is 0.6780\n",
      "epoch 88 took 116.42 min\n"
     ]
    },
    {
     "name": "stderr",
     "output_type": "stream",
     "text": [
      "/usr/local/lib/python3.8/dist-packages/pydicom/pixel_data_handlers/pillow_handler.py:238: UserWarning: The (0028,0101) 'Bits Stored' value (14-bit) doesn't match the JPEG 2000 data (16-bit). It's recommended that you change the 'Bits Stored' value\n",
      "  warnings.warn(\n",
      "/usr/local/lib/python3.8/dist-packages/pydicom/pixel_data_handlers/pillow_handler.py:238: UserWarning: The (0028,0101) 'Bits Stored' value (12-bit) doesn't match the JPEG 2000 data (16-bit). It's recommended that you change the 'Bits Stored' value\n",
      "  warnings.warn(\n"
     ]
    },
    {
     "name": "stdout",
     "output_type": "stream",
     "text": [
      "epoch 89 loss is 0.2683\n",
      "epoch 89 val loss is 0.1385\n",
      "epoch 89 val auroc is 0.8226\n",
      "epoch 89 val acc is 0.6473\n",
      "epoch 89 took 117.00 min\n"
     ]
    },
    {
     "name": "stderr",
     "output_type": "stream",
     "text": [
      "/usr/local/lib/python3.8/dist-packages/pydicom/pixel_data_handlers/pillow_handler.py:238: UserWarning: The (0028,0101) 'Bits Stored' value (12-bit) doesn't match the JPEG 2000 data (16-bit). It's recommended that you change the 'Bits Stored' value\n",
      "  warnings.warn(\n",
      "/usr/local/lib/python3.8/dist-packages/pydicom/pixel_data_handlers/pillow_handler.py:238: UserWarning: The (0028,0101) 'Bits Stored' value (14-bit) doesn't match the JPEG 2000 data (16-bit). It's recommended that you change the 'Bits Stored' value\n",
      "  warnings.warn(\n"
     ]
    },
    {
     "name": "stdout",
     "output_type": "stream",
     "text": [
      "epoch 90 loss is 0.2708\n",
      "epoch 90 val loss is 0.1202\n",
      "epoch 90 val auroc is 0.8308\n",
      "epoch 90 val acc is 0.6853\n",
      "epoch 90 took 115.97 min\n"
     ]
    },
    {
     "name": "stderr",
     "output_type": "stream",
     "text": [
      "/usr/local/lib/python3.8/dist-packages/pydicom/pixel_data_handlers/pillow_handler.py:238: UserWarning: The (0028,0101) 'Bits Stored' value (14-bit) doesn't match the JPEG 2000 data (16-bit). It's recommended that you change the 'Bits Stored' value\n",
      "  warnings.warn(\n",
      "/usr/local/lib/python3.8/dist-packages/pydicom/pixel_data_handlers/pillow_handler.py:238: UserWarning: The (0028,0101) 'Bits Stored' value (12-bit) doesn't match the JPEG 2000 data (16-bit). It's recommended that you change the 'Bits Stored' value\n",
      "  warnings.warn(\n"
     ]
    },
    {
     "name": "stdout",
     "output_type": "stream",
     "text": [
      "epoch 91 loss is 0.2522\n",
      "epoch 91 val loss is 0.1296\n",
      "epoch 91 val auroc is 0.8056\n",
      "epoch 91 val acc is 0.6267\n",
      "epoch 91 took 116.86 min\n"
     ]
    },
    {
     "name": "stderr",
     "output_type": "stream",
     "text": [
      "/usr/local/lib/python3.8/dist-packages/pydicom/pixel_data_handlers/pillow_handler.py:238: UserWarning: The (0028,0101) 'Bits Stored' value (12-bit) doesn't match the JPEG 2000 data (16-bit). It's recommended that you change the 'Bits Stored' value\n",
      "  warnings.warn(\n",
      "/usr/local/lib/python3.8/dist-packages/pydicom/pixel_data_handlers/pillow_handler.py:238: UserWarning: The (0028,0101) 'Bits Stored' value (14-bit) doesn't match the JPEG 2000 data (16-bit). It's recommended that you change the 'Bits Stored' value\n",
      "  warnings.warn(\n"
     ]
    },
    {
     "name": "stdout",
     "output_type": "stream",
     "text": [
      "epoch 92 loss is 0.3428\n",
      "epoch 92 val loss is 0.1213\n",
      "epoch 92 val auroc is 0.7979\n",
      "epoch 92 val acc is 0.6720\n",
      "epoch 92 took 117.21 min\n"
     ]
    },
    {
     "name": "stderr",
     "output_type": "stream",
     "text": [
      "/usr/local/lib/python3.8/dist-packages/pydicom/pixel_data_handlers/pillow_handler.py:238: UserWarning: The (0028,0101) 'Bits Stored' value (12-bit) doesn't match the JPEG 2000 data (16-bit). It's recommended that you change the 'Bits Stored' value\n",
      "  warnings.warn(\n",
      "/usr/local/lib/python3.8/dist-packages/pydicom/pixel_data_handlers/pillow_handler.py:238: UserWarning: The (0028,0101) 'Bits Stored' value (14-bit) doesn't match the JPEG 2000 data (16-bit). It's recommended that you change the 'Bits Stored' value\n",
      "  warnings.warn(\n"
     ]
    },
    {
     "name": "stdout",
     "output_type": "stream",
     "text": [
      "epoch 93 loss is 0.2923\n",
      "epoch 93 val loss is 0.1165\n",
      "epoch 93 val auroc is 0.8307\n",
      "epoch 93 val acc is 0.6607\n",
      "epoch 93 took 116.41 min\n"
     ]
    },
    {
     "name": "stderr",
     "output_type": "stream",
     "text": [
      "/usr/local/lib/python3.8/dist-packages/pydicom/pixel_data_handlers/pillow_handler.py:238: UserWarning: The (0028,0101) 'Bits Stored' value (14-bit) doesn't match the JPEG 2000 data (16-bit). It's recommended that you change the 'Bits Stored' value\n",
      "  warnings.warn(\n",
      "/usr/local/lib/python3.8/dist-packages/pydicom/pixel_data_handlers/pillow_handler.py:238: UserWarning: The (0028,0101) 'Bits Stored' value (12-bit) doesn't match the JPEG 2000 data (16-bit). It's recommended that you change the 'Bits Stored' value\n",
      "  warnings.warn(\n"
     ]
    },
    {
     "name": "stdout",
     "output_type": "stream",
     "text": [
      "epoch 94 loss is 0.2633\n",
      "epoch 94 val loss is 0.1284\n",
      "epoch 94 val auroc is 0.8424\n",
      "epoch 94 val acc is 0.6573\n",
      "epoch 94 took 116.28 min\n"
     ]
    },
    {
     "name": "stderr",
     "output_type": "stream",
     "text": [
      "/usr/local/lib/python3.8/dist-packages/pydicom/pixel_data_handlers/pillow_handler.py:238: UserWarning: The (0028,0101) 'Bits Stored' value (14-bit) doesn't match the JPEG 2000 data (16-bit). It's recommended that you change the 'Bits Stored' value\n",
      "  warnings.warn(\n",
      "/usr/local/lib/python3.8/dist-packages/pydicom/pixel_data_handlers/pillow_handler.py:238: UserWarning: The (0028,0101) 'Bits Stored' value (12-bit) doesn't match the JPEG 2000 data (16-bit). It's recommended that you change the 'Bits Stored' value\n",
      "  warnings.warn(\n"
     ]
    }
   ],
   "source": [
    "# train and valid for 3 channels EfficientNet\n",
    "best_metric = 100000\n",
    "\n",
    "epoch_loss_values = []\n",
    "metric_values = []\n",
    "auroc_values = []\n",
    "acc_values = []\n",
    "\n",
    "for epoch in range(1, 100):\n",
    "    # train\n",
    "    start_time = time.time()\n",
    "    epoch_loss = 0\n",
    "    epoch_samples = 0\n",
    "    step = 0\n",
    "    model.train()\n",
    "    for batch_data in train_loader:\n",
    "        step += 1\n",
    "        # unsquezee each channel\n",
    "        x1, x2, x3, y = batch_data[0].cpu(), batch_data[1].cpu(), batch_data[2].cpu(), batch_data[3].cuda()\n",
    "        inputs = torch.cat([x1, x2, x3], axis=1)\n",
    "\n",
    "        # make y to one hot encoding\n",
    "        y = F.one_hot(y, num_classes=15).cuda().float()\n",
    "\n",
    "        optimizer.zero_grad()\n",
    "        y_hat = model(inputs)\n",
    "        \n",
    "        loss = loss_function(y_hat, y)\n",
    "        loss.backward()\n",
    "        optimizer.step()\n",
    "        epoch_loss += loss.item() * y.size(0)\n",
    "        epoch_samples += y.size(0)\n",
    "    scheduler.step()\n",
    "    epoch_loss /= step\n",
    "    epoch_loss_values.append(epoch_loss)\n",
    "    print(f'epoch {epoch} loss is {epoch_loss:.4f}')\n",
    "\n",
    "    # make checkpoint\n",
    "    if epoch % 10 == 0:\n",
    "        torch.save(model.state_dict(), '/data4/vin_model_weights/' + '_epoch_' + str(epoch) + '_checkpoint.pth')\n",
    "        print('saved model for checkpoint')\n",
    "\n",
    "    # validation\n",
    "    model.eval()\n",
    "    val_loss_values = []\n",
    "    val_loss = 0\n",
    "    with torch.no_grad():\n",
    "        y_pred = torch.tensor([], dtype=torch.float32, device=device)\n",
    "        y_labels = torch.tensor([], dtype=torch.float32, device=device)\n",
    "\n",
    "        for val_data in valid_loader:\n",
    "            x1, x2, x3, y = val_data[0].cpu(), val_data[1].cpu(), val_data[2].cpu(), val_data[3].cuda()\n",
    "            val_images = torch.cat((x1, x2, x3), 1).float()\n",
    "\n",
    "            val_outputs = model(val_images)\n",
    "            val_labels = F.one_hot(y, num_classes=15).cuda().float()\n",
    "            \n",
    "            val_loss = loss_function(val_outputs, val_labels)\n",
    "\n",
    "            y_pred = torch.cat([y_pred, torch.sigmoid(val_outputs)], dim=0)\n",
    "            y_labels = torch.cat([y_labels, val_labels], dim=0)\n",
    "\n",
    "            val_loss_values.append(val_loss.item())\n",
    "\n",
    "        val_loss = np.sum(val_loss_values) / len(val_loss_values)\n",
    "        y_pred, y_labels = y_pred.cpu(), y_labels.cpu()\n",
    "        result = roc_auc_score(y_labels, y_pred)\n",
    "        acc_metric = accuracy_score(y_labels, (y_pred>0.5).float())\n",
    "\n",
    "        val_result = np.mean(val_loss_values)\n",
    "        metric_values.append(val_result)\n",
    "        \n",
    "        auroc_values.append(result)\n",
    "        acc_values.append(acc_metric)\n",
    "        \n",
    "        if val_result < best_metric:\n",
    "            best_metric = val_result\n",
    "            torch.save(model.state_dict(), '/data4/vin_model_weights/' + '_epoch_' + str(epoch) + '_best_metric_model.pth')\n",
    "            print('saved new best model')\n",
    "\n",
    "        print(f'epoch {epoch} val loss is {val_result:.4f}')\n",
    "        print(f'epoch {epoch} val auroc is {result:.4f}')\n",
    "        print(f'epoch {epoch} val acc is {acc_metric:.4f}')\n",
    "\n",
    "    print(f'epoch {epoch} took {(time.time()-start_time)/60:.2f} min')"
   ]
  },
  {
   "cell_type": "code",
   "execution_count": 12,
   "metadata": {},
   "outputs": [
    {
     "name": "stdout",
     "output_type": "stream",
     "text": [
      "Loaded pretrained weights for efficientnet-b5\n"
     ]
    },
    {
     "name": "stderr",
     "output_type": "stream",
     "text": [
      "/usr/local/lib/python3.8/dist-packages/pydicom/pixel_data_handlers/pillow_handler.py:238: UserWarning: The (0028,0101) 'Bits Stored' value (12-bit) doesn't match the JPEG 2000 data (16-bit). It's recommended that you change the 'Bits Stored' value\n",
      "  warnings.warn(\n",
      "/usr/local/lib/python3.8/dist-packages/pydicom/pixel_data_handlers/pillow_handler.py:238: UserWarning: The (0028,0101) 'Bits Stored' value (14-bit) doesn't match the JPEG 2000 data (16-bit). It's recommended that you change the 'Bits Stored' value\n",
      "  warnings.warn(\n"
     ]
    },
    {
     "name": "stdout",
     "output_type": "stream",
     "text": [
      "test loss is 0.0729\n",
      "test auroc is 0.8853\n",
      "test acc is 0.6927\n"
     ]
    }
   ],
   "source": [
    "metric_values = []\n",
    "auroc_values = []\n",
    "acc_values = []\n",
    "\n",
    "model = EfficientNet.from_pretrained(model_name,in_channels=3, num_classes=15)\n",
    "model = nn.DataParallel(model)\n",
    "model.to(device)\n",
    "\n",
    "model.load_state_dict(torch.load('/data4/vin_model_weights/_epoch_5_best_metric_model.pth'))\n",
    "model.eval()\n",
    "\n",
    "test_loss_values = []\n",
    "test_loss = 0\n",
    "\n",
    "with torch.no_grad():\n",
    "\n",
    "    y_pred = torch.tensor([], dtype=torch.float32, device=device)\n",
    "    y_labels = torch.tensor([], dtype=torch.float32, device=device)\n",
    "\n",
    "    for test_data in test_loader:\n",
    "\n",
    "        x1, x2, x3, y = test_data[0].cpu(), test_data[1].cpu(), test_data[2].cpu(), test_data[3].cuda()\n",
    "        outputs = torch.cat([x1, x2, x3], axis=1)\n",
    "\n",
    "        # make y to one hot encoding\n",
    "        test_outputs = model(outputs)\n",
    "        test_labels = F.one_hot(y, num_classes=15).cuda().float()\n",
    "\n",
    "        test_loss = loss_function(test_outputs, test_labels)\n",
    "\n",
    "        y_pred = torch.cat([y_pred, torch.sigmoid(test_outputs)], dim=0)\n",
    "        y_labels = torch.cat([y_labels, test_labels], dim=0)\n",
    "\n",
    "        test_loss_values.append(test_loss.item())\n",
    "\n",
    "    test_loss = np.sum(test_loss_values) / len(test_loss_values)\n",
    "\n",
    "    y_pred, y_labels = y_pred.cpu(), y_labels.cpu()\n",
    "    result = roc_auc_score(y_labels, y_pred)\n",
    "    acc_metric = accuracy_score(y_labels, (y_pred>0.5).float())\n",
    "\n",
    "    test_result = np.mean(test_loss_values)\n",
    "    metric_values.append(test_result)\n",
    "\n",
    "    auroc_values.append(result)\n",
    "    acc_values.append(acc_metric)\n",
    "\n",
    "    print(f'test loss is {test_loss:.4f}')\n",
    "    print(f'test auroc is {result:.4f}')\n",
    "    print(f'test acc is {acc_metric:.4f}')"
   ]
  },
  {
   "cell_type": "code",
   "execution_count": 87,
   "metadata": {},
   "outputs": [
    {
     "name": "stdout",
     "output_type": "stream",
     "text": [
      "Loaded pretrained weights for efficientnet-b5\n"
     ]
    },
    {
     "name": "stderr",
     "output_type": "stream",
     "text": [
      "/usr/local/lib/python3.8/dist-packages/pydicom/pixel_data_handlers/pillow_handler.py:238: UserWarning: The (0028,0101) 'Bits Stored' value (12-bit) doesn't match the JPEG 2000 data (16-bit). It's recommended that you change the 'Bits Stored' value\n",
      "  warnings.warn(\n"
     ]
    },
    {
     "name": "stdout",
     "output_type": "stream",
     "text": [
      "<class 'torch.Tensor'>\n",
      "(None,)\n",
      "<class 'torch.Tensor'>\n",
      "(None,)\n",
      "<class 'torch.Tensor'>\n",
      "(None,)\n",
      "<class 'torch.Tensor'>\n",
      "(None,)\n",
      "<class 'torch.Tensor'>\n",
      "(None,)\n",
      "<class 'torch.Tensor'>\n",
      "(None,)\n"
     ]
    },
    {
     "name": "stderr",
     "output_type": "stream",
     "text": [
      "/usr/local/lib/python3.8/dist-packages/pydicom/pixel_data_handlers/pillow_handler.py:238: UserWarning: The (0028,0101) 'Bits Stored' value (14-bit) doesn't match the JPEG 2000 data (16-bit). It's recommended that you change the 'Bits Stored' value\n",
      "  warnings.warn(\n"
     ]
    },
    {
     "name": "stdout",
     "output_type": "stream",
     "text": [
      "<class 'torch.Tensor'>\n",
      "(None,)\n",
      "<class 'torch.Tensor'>\n",
      "(None,)\n",
      "<class 'torch.Tensor'>\n",
      "(None,)\n",
      "<class 'torch.Tensor'>\n",
      "(None,)\n",
      "<class 'torch.Tensor'>\n",
      "(None,)\n",
      "<class 'torch.Tensor'>\n",
      "(None,)\n",
      "<class 'torch.Tensor'>\n",
      "(None,)\n",
      "<class 'torch.Tensor'>\n",
      "(None,)\n",
      "<class 'torch.Tensor'>\n",
      "(None,)\n"
     ]
    }
   ],
   "source": [
    "# add grad-cam to model\n",
    "import cv2\n",
    "from torch.autograd import Function\n",
    "from torchvision import models\n",
    "from torchvision import utils\n",
    "from PIL import Image\n",
    "import matplotlib.cm as cm\n",
    "\n",
    "class FeatureExtractor():\n",
    "    \"\"\" Class for extracting activations and \n",
    "    registering gradients from targetted intermediate layers \"\"\"\n",
    "\n",
    "    def __init__(self, model, target_layers):\n",
    "        self.model = model\n",
    "        self.target_layers = target_layers\n",
    "        self.gradients = []\n",
    "\n",
    "    def save_gradient(self, grad):\n",
    "        self.gradients.append(grad)\n",
    "\n",
    "    def __call__(self, x):\n",
    "\n",
    "        outputs = []\n",
    "        self.gradients = []\n",
    "        for name, module in self.model._modules.items():\n",
    "            if name == 'fc':\n",
    "                x = x.view(x.size(0), -1)\n",
    "            x = module(x)\n",
    "            if name in self.target_layers:\n",
    "                x.register_hook(self.save_gradient)\n",
    "                outputs += [x]\n",
    "        return outputs, x\n",
    "\n",
    "\n",
    "class ModelOutputs():\n",
    "    \"\"\" Class for making a forward pass, and getting:\n",
    "    1. The network output.\n",
    "    2. Activations from intermeddiate targetted layers.\n",
    "    3. Gradients from intermeddiate targetted layers. \"\"\"\n",
    "\n",
    "    def __init__(self, model, target_layers):\n",
    "        self.model = model\n",
    "        self.feature_extractor = FeatureExtractor(self.model, target_layers)\n",
    "\n",
    "    def get_gradients(self):\n",
    "        return self.feature_extractor.gradients\n",
    "    \n",
    "    def __call__(self, x):\n",
    "\n",
    "        target_activations, output  = self.feature_extractor(x)\n",
    "        output = torch.sigmoid(output)\n",
    "        return target_activations, output\n",
    "    \n",
    "def preprocess_image(img):\n",
    "    means=[0.485, 0.456, 0.406]\n",
    "    stds=[0.229, 0.224, 0.225]\n",
    "\n",
    "    preprocessed_img = img.copy()[:, :, ::-1]\n",
    "    for i in range(3):\n",
    "\n",
    "        preprocessed_img[:, :, i] = preprocessed_img[:, :, i] - means[i]\n",
    "        preprocessed_img[:, :, i] = preprocessed_img[:, :, i] / stds[i]\n",
    "\n",
    "    preprocessed_img = \\\n",
    "        np.ascontiguousarray(np.transpose(preprocessed_img, (2, 0, 1)))\n",
    "    preprocessed_img = torch.from_numpy(preprocessed_img)\n",
    "\n",
    "    preprocessed_img.unsqueeze_(0)\n",
    "    input = preprocessed_img.requires_grad_(True)\n",
    "    return input\n",
    "\n",
    "def show_cam_on_image(img, mask, file_name):\n",
    "    \n",
    "        heatmap = cv2.applyColorMap(np.uint8(255 * mask), cv2.COLORMAP_JET)\n",
    "        heatmap = np.float32(heatmap) / 255\n",
    "    \n",
    "        cam = heatmap + np.float32(img)\n",
    "        cam = cam / np.max(cam)\n",
    "    \n",
    "        cv2.imwrite(file_name, np.uint8(255 * cam))\n",
    "\n",
    "def get_cam(model, input_image, class_idx, file_name):\n",
    "\n",
    "    model.eval()\n",
    "    output = model(input_image.cuda())\n",
    "    # output shape is (batch_size, num_classes)\n",
    "    output = output[:, class_idx]\n",
    "\n",
    "    # one of the differentiated Tensors does not require grad\n",
    "    # so we have to manually set it to true\n",
    "    print(type(input_image))\n",
    "    input_image.requires_grad_(True)\n",
    "    grads = torch.autograd.grad(output, input_image, allow_unused= True)\n",
    "    print(grads)\n",
    "\n",
    "\n",
    "\n",
    "model = EfficientNet.from_pretrained(model_name,in_channels=1, num_classes=15)\n",
    "model.to(device)\n",
    "\n",
    "# get grad-cam for each class\n",
    "for i in range(15):\n",
    "    get_cam(model, test_dataset[i][0].unsqueeze(0), i, '/data4/vin_model_weights/' + str(i) + '_class_grad_cam.jpg')"
   ]
  },
  {
   "cell_type": "code",
   "execution_count": 71,
   "metadata": {},
   "outputs": [
    {
     "name": "stdout",
     "output_type": "stream",
     "text": [
      "(tensor([[[-0.9843, -0.9843, -0.9843,  ..., -0.9137, -0.9137, -0.9059],\n",
      "         [-0.9843, -0.9843, -0.9922,  ..., -0.9137, -0.9137, -0.9137],\n",
      "         [-0.9843, -0.9922, -0.9922,  ..., -0.9216, -0.9216, -0.9216],\n",
      "         ...,\n",
      "         [-1.0000, -1.0000, -1.0000,  ..., -1.0000, -1.0000, -1.0000],\n",
      "         [-1.0000, -1.0000, -1.0000,  ..., -1.0000, -1.0000, -1.0000],\n",
      "         [-1.0000, -1.0000, -1.0000,  ..., -1.0000, -1.0000, -1.0000]]]), tensor([[[-1., -1., -1.,  ..., -1., -1., -1.],\n",
      "         [-1., -1., -1.,  ..., -1., -1., -1.],\n",
      "         [-1., -1., -1.,  ..., -1., -1., -1.],\n",
      "         ...,\n",
      "         [-1., -1., -1.,  ..., -1., -1., -1.],\n",
      "         [-1., -1., -1.,  ..., -1., -1., -1.],\n",
      "         [-1., -1., -1.,  ..., -1., -1., -1.]]]), tensor([[[-1., -1., -1.,  ..., -1., -1., -1.],\n",
      "         [-1., -1., -1.,  ..., -1., -1., -1.],\n",
      "         [-1., -1., -1.,  ..., -1., -1., -1.],\n",
      "         ...,\n",
      "         [-1., -1., -1.,  ..., -1., -1., -1.],\n",
      "         [-1., -1., -1.,  ..., -1., -1., -1.],\n",
      "         [-1., -1., -1.,  ..., -1., -1., -1.]]]), 11)\n"
     ]
    }
   ],
   "source": [
    "print(test_dataset[0])"
   ]
  },
  {
   "cell_type": "code",
   "execution_count": 36,
   "metadata": {},
   "outputs": [
    {
     "name": "stdout",
     "output_type": "stream",
     "text": [
      "torch.Size([1, 1024, 1024])\n",
      "torch.Size([1, 1, 1024, 1024])\n"
     ]
    }
   ],
   "source": [
    "sample = test_dataset[0][0]\n",
    "print(sample.shape)\n",
    "uns_sample = sample.unsqueeze(0)\n",
    "print(uns_sample.shape)"
   ]
  },
  {
   "cell_type": "code",
   "execution_count": 38,
   "metadata": {},
   "outputs": [],
   "source": [
    "sample_feature = model.extract_features(uns_sample.cuda())"
   ]
  },
  {
   "cell_type": "code",
   "execution_count": 39,
   "metadata": {},
   "outputs": [
    {
     "name": "stdout",
     "output_type": "stream",
     "text": [
      "torch.Size([1, 2048, 32, 32])\n"
     ]
    }
   ],
   "source": [
    "print(sample_feature.shape)"
   ]
  },
  {
   "cell_type": "code",
   "execution_count": 47,
   "metadata": {},
   "outputs": [],
   "source": [
    "sample_output = model(uns_sample.cuda())"
   ]
  },
  {
   "cell_type": "code",
   "execution_count": 49,
   "metadata": {},
   "outputs": [
    {
     "name": "stdout",
     "output_type": "stream",
     "text": [
      "tensor([[-0.0151, -0.0895, -0.0134, -0.0242, -0.1249,  0.0150, -0.0504, -0.0077,\n",
      "         -0.1312,  0.1254, -0.0041,  0.0808, -0.1009, -0.0046,  0.0095]],\n",
      "       device='cuda:0', grad_fn=<AddmmBackward0>)\n"
     ]
    }
   ],
   "source": [
    "print(sample_output)"
   ]
  },
  {
   "cell_type": "code",
   "execution_count": 78,
   "metadata": {},
   "outputs": [
    {
     "name": "stdout",
     "output_type": "stream",
     "text": [
      "torch.Size([1, 15])\n"
     ]
    }
   ],
   "source": [
    "print(sample_output.shape)"
   ]
  },
  {
   "cell_type": "code",
   "execution_count": 50,
   "metadata": {},
   "outputs": [
    {
     "name": "stdout",
     "output_type": "stream",
     "text": [
      "tensor([[0.4962, 0.4776, 0.4966, 0.4939, 0.4688, 0.5038, 0.4874, 0.4981, 0.4673,\n",
      "         0.5313, 0.4990, 0.5202, 0.4748, 0.4988, 0.5024]], device='cuda:0',\n",
      "       grad_fn=<SigmoidBackward0>)\n"
     ]
    }
   ],
   "source": [
    "sig_output = torch.sigmoid(sample_output)\n",
    "print(sig_output)"
   ]
  }
 ],
 "metadata": {
  "kernelspec": {
   "display_name": "Python 3",
   "language": "python",
   "name": "python3"
  },
  "language_info": {
   "codemirror_mode": {
    "name": "ipython",
    "version": 3
   },
   "file_extension": ".py",
   "mimetype": "text/x-python",
   "name": "python",
   "nbconvert_exporter": "python",
   "pygments_lexer": "ipython3",
   "version": "3.8.10"
  }
 },
 "nbformat": 4,
 "nbformat_minor": 2
}
